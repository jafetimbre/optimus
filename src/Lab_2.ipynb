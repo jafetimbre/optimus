{
 "cells": [
  {
   "cell_type": "markdown",
   "id": "coated-cemetery",
   "metadata": {},
   "source": [
    "# Generatoare de liste"
   ]
  },
  {
   "cell_type": "code",
   "execution_count": 3,
   "id": "aware-cycle",
   "metadata": {},
   "outputs": [
    {
     "name": "stdout",
     "output_type": "stream",
     "text": [
      "Primul generator de lista: ['al', 'am', 'an', 'ap', 'aq', 'bl', 'bm', 'bn', 'bp', 'bq', 'cl', 'cm', 'cn', 'cp', 'cq']\n",
      "Al doilea generator de lista: ['al', 'bm', 'cn']\n"
     ]
    }
   ],
   "source": [
    "L = [x + y for x in 'abc' for y in 'lmnpq']\n",
    "print(f'Primul generator de lista: {L}')\n",
    "\n",
    "L = [x + y for (x, y) in zip('abc', 'lmnpq')]\n",
    "print(f'Al doilea generator de lista: {L}')"
   ]
  },
  {
   "cell_type": "code",
   "execution_count": 5,
   "id": "recreational-duration",
   "metadata": {},
   "outputs": [
    {
     "name": "stdout",
     "output_type": "stream",
     "text": [
      "Prima expresie: [[1, 2, 3], [4, 5, 6], [7, 8, 9]]\n",
      "A doua expresie: [[11, 12, 13], [14, 15, 16], [17, 18, 19]]\n"
     ]
    }
   ],
   "source": [
    "M = [ [1,2,3], [4,5,6], [7,8,9]]\n",
    "m = [ [col + 10 for col in row] for row in M]\n",
    "\n",
    "print(f'Prima expresie: {M}')\n",
    "print(f'A doua expresie: {m}')"
   ]
  },
  {
   "cell_type": "code",
   "execution_count": 11,
   "id": "periodic-reunion",
   "metadata": {},
   "outputs": [
    {
     "name": "stdout",
     "output_type": "stream",
     "text": [
      "<class 'range'>\n",
      "[0, 1, 2]\n",
      "[0, 1]\n"
     ]
    }
   ],
   "source": [
    "R = range(5)\n",
    "print(type(R))\n",
    "L1, L2 = iter(R), iter(R)\n",
    "print([next(L1), next(L1), next(L1)])\n",
    "print([next(L2), next(L2)])"
   ]
  },
  {
   "cell_type": "code",
   "execution_count": 24,
   "id": "floppy-meditation",
   "metadata": {},
   "outputs": [
    {
     "name": "stdout",
     "output_type": "stream",
     "text": [
      "2.6679140999999618\n",
      "0.9788963000000876\n",
      "1.2854178000000047\n",
      "0.0040117999999438325\n",
      "0.4548700000000281\n"
     ]
    }
   ],
   "source": [
    "import timeit\n",
    "\n",
    "expr = '[abs(x) for x in range(1000)]\\nlist(abs(x) for x in range(1000))'\n",
    "\n",
    "print(timeit.timeit(expr, number = 10000))\n",
    "\n",
    "print(timeit.timeit('[abs(x) for x in range(1000)]', number = 10000))\n",
    "print(timeit.timeit('list(abs(x) for x in range(1000))', number = 10000))\n",
    "print(timeit.timeit('map(abs,range(1000))', number = 10000))\n",
    "print(timeit.timeit('list(map(abs,range(1000)))', number = 10000))"
   ]
  },
  {
   "cell_type": "markdown",
   "id": "identical-aquatic",
   "metadata": {},
   "source": [
    "# NumPy"
   ]
  },
  {
   "cell_type": "code",
   "execution_count": 46,
   "id": "several-control",
   "metadata": {},
   "outputs": [],
   "source": [
    "import numpy as np\n",
    "arr = np.random.normal(5, 0.5, size=(3, 3, 3))"
   ]
  },
  {
   "cell_type": "code",
   "execution_count": 53,
   "id": "popular-chuck",
   "metadata": {},
   "outputs": [
    {
     "name": "stdout",
     "output_type": "stream",
     "text": [
      "[[[ 1  2  3]\n",
      "  [ 4  5  6]\n",
      "  [ 7  8  9]]\n",
      "\n",
      " [[10 11 12]\n",
      "  [13 14 15]\n",
      "  [16 17 18]]\n",
      "\n",
      " [[19 20 21]\n",
      "  [22 23 24]\n",
      "  [25 26 27]]]\n"
     ]
    }
   ],
   "source": [
    "arr = np.arange(1, 28).reshape(3,3,3)\n",
    "print(arr)"
   ]
  },
  {
   "cell_type": "code",
   "execution_count": 77,
   "id": "mechanical-plaintiff",
   "metadata": {},
   "outputs": [
    {
     "name": "stdout",
     "output_type": "stream",
     "text": [
      "[array([[1, 2, 3],\n",
      "       [4, 5, 6],\n",
      "       [7, 8, 9]]), array([[10, 11, 12],\n",
      "       [13, 14, 15],\n",
      "       [16, 17, 18]]), array([[19, 20, 21],\n",
      "       [22, 23, 24],\n",
      "       [25, 26, 27]])]\n",
      "[array([[ 1,  2,  3],\n",
      "       [10, 11, 12],\n",
      "       [19, 20, 21]]), array([[ 4,  5,  6],\n",
      "       [13, 14, 15],\n",
      "       [22, 23, 24]]), array([[ 7,  8,  9],\n",
      "       [16, 17, 18],\n",
      "       [25, 26, 27]])]\n",
      "[array([[ 1,  4,  7],\n",
      "       [10, 13, 16],\n",
      "       [19, 22, 25]]), array([[ 2,  5,  8],\n",
      "       [11, 14, 17],\n",
      "       [20, 23, 26]]), array([[ 3,  6,  9],\n",
      "       [12, 15, 18],\n",
      "       [21, 24, 27]])]\n"
     ]
    }
   ],
   "source": [
    "print([arr[x, :, :] for x in range(3)])\n",
    "print([arr[:, y, :] for y in range(3)])                                          \n",
    "print([arr[:, :, z] for z in range(3)])"
   ]
  },
  {
   "cell_type": "markdown",
   "id": "later-france",
   "metadata": {},
   "source": [
    "## 3"
   ]
  },
  {
   "cell_type": "code",
   "execution_count": 45,
   "id": "cheap-amplifier",
   "metadata": {},
   "outputs": [
    {
     "data": {
      "text/plain": [
       "array([[0, 7, 3, 7, 4, 2],\n",
       "       [3, 6, 9, 1, 3, 8],\n",
       "       [6, 5, 4, 1, 2, 5],\n",
       "       [0, 3, 5, 6, 9, 9],\n",
       "       [9, 5, 5, 6, 7, 1],\n",
       "       [0, 2, 1, 1, 9, 8]])"
      ]
     },
     "execution_count": 45,
     "metadata": {},
     "output_type": "execute_result"
    }
   ],
   "source": [
    "mat = np.random.randint(10, size=(6,6))\n",
    "mat"
   ]
  },
  {
   "cell_type": "code",
   "execution_count": 94,
   "id": "champion-colon",
   "metadata": {},
   "outputs": [],
   "source": [
    "import random\n",
    "arr = np.array([random.random() for _ in range(10000)]) "
   ]
  },
  {
   "cell_type": "code",
   "execution_count": 95,
   "id": "introductory-north",
   "metadata": {},
   "outputs": [
    {
     "ename": "NameError",
     "evalue": "name 'arr' is not defined",
     "output_type": "error",
     "traceback": [
      "\u001b[1;31m---------------------------------------------------------------------------\u001b[0m",
      "\u001b[1;31mNameError\u001b[0m                                 Traceback (most recent call last)",
      "\u001b[1;32m<ipython-input-95-0ca1d0473bc4>\u001b[0m in \u001b[0;36m<module>\u001b[1;34m\u001b[0m\n\u001b[0;32m      7\u001b[0m \u001b[0mexpr_1\u001b[0m \u001b[1;33m=\u001b[0m \u001b[1;34m'output = [ 0 for i in range(len(arr))]\\nfor i in range(len(arr)):\\n\\toutput[i] = 1.0 / arr[i]'\u001b[0m\u001b[1;33m\u001b[0m\u001b[1;33m\u001b[0m\u001b[0m\n\u001b[0;32m      8\u001b[0m \u001b[1;33m\u001b[0m\u001b[0m\n\u001b[1;32m----> 9\u001b[1;33m \u001b[0mprint\u001b[0m\u001b[1;33m(\u001b[0m\u001b[0mtimeit\u001b[0m\u001b[1;33m.\u001b[0m\u001b[0mtimeit\u001b[0m\u001b[1;33m(\u001b[0m\u001b[0mexpr_1\u001b[0m\u001b[1;33m,\u001b[0m \u001b[0mnumber\u001b[0m \u001b[1;33m=\u001b[0m \u001b[1;36m10000\u001b[0m\u001b[1;33m)\u001b[0m\u001b[1;33m)\u001b[0m\u001b[1;33m\u001b[0m\u001b[1;33m\u001b[0m\u001b[0m\n\u001b[0m",
      "\u001b[1;32m~\\AppData\\Local\\Programs\\Python\\Python38\\lib\\timeit.py\u001b[0m in \u001b[0;36mtimeit\u001b[1;34m(stmt, setup, timer, number, globals)\u001b[0m\n\u001b[0;32m    231\u001b[0m            number=default_number, globals=None):\n\u001b[0;32m    232\u001b[0m     \u001b[1;34m\"\"\"Convenience function to create Timer object and call timeit method.\"\"\"\u001b[0m\u001b[1;33m\u001b[0m\u001b[1;33m\u001b[0m\u001b[0m\n\u001b[1;32m--> 233\u001b[1;33m     \u001b[1;32mreturn\u001b[0m \u001b[0mTimer\u001b[0m\u001b[1;33m(\u001b[0m\u001b[0mstmt\u001b[0m\u001b[1;33m,\u001b[0m \u001b[0msetup\u001b[0m\u001b[1;33m,\u001b[0m \u001b[0mtimer\u001b[0m\u001b[1;33m,\u001b[0m \u001b[0mglobals\u001b[0m\u001b[1;33m)\u001b[0m\u001b[1;33m.\u001b[0m\u001b[0mtimeit\u001b[0m\u001b[1;33m(\u001b[0m\u001b[0mnumber\u001b[0m\u001b[1;33m)\u001b[0m\u001b[1;33m\u001b[0m\u001b[1;33m\u001b[0m\u001b[0m\n\u001b[0m\u001b[0;32m    234\u001b[0m \u001b[1;33m\u001b[0m\u001b[0m\n\u001b[0;32m    235\u001b[0m def repeat(stmt=\"pass\", setup=\"pass\", timer=default_timer,\n",
      "\u001b[1;32m~\\AppData\\Local\\Programs\\Python\\Python38\\lib\\timeit.py\u001b[0m in \u001b[0;36mtimeit\u001b[1;34m(self, number)\u001b[0m\n\u001b[0;32m    175\u001b[0m         \u001b[0mgc\u001b[0m\u001b[1;33m.\u001b[0m\u001b[0mdisable\u001b[0m\u001b[1;33m(\u001b[0m\u001b[1;33m)\u001b[0m\u001b[1;33m\u001b[0m\u001b[1;33m\u001b[0m\u001b[0m\n\u001b[0;32m    176\u001b[0m         \u001b[1;32mtry\u001b[0m\u001b[1;33m:\u001b[0m\u001b[1;33m\u001b[0m\u001b[1;33m\u001b[0m\u001b[0m\n\u001b[1;32m--> 177\u001b[1;33m             \u001b[0mtiming\u001b[0m \u001b[1;33m=\u001b[0m \u001b[0mself\u001b[0m\u001b[1;33m.\u001b[0m\u001b[0minner\u001b[0m\u001b[1;33m(\u001b[0m\u001b[0mit\u001b[0m\u001b[1;33m,\u001b[0m \u001b[0mself\u001b[0m\u001b[1;33m.\u001b[0m\u001b[0mtimer\u001b[0m\u001b[1;33m)\u001b[0m\u001b[1;33m\u001b[0m\u001b[1;33m\u001b[0m\u001b[0m\n\u001b[0m\u001b[0;32m    178\u001b[0m         \u001b[1;32mfinally\u001b[0m\u001b[1;33m:\u001b[0m\u001b[1;33m\u001b[0m\u001b[1;33m\u001b[0m\u001b[0m\n\u001b[0;32m    179\u001b[0m             \u001b[1;32mif\u001b[0m \u001b[0mgcold\u001b[0m\u001b[1;33m:\u001b[0m\u001b[1;33m\u001b[0m\u001b[1;33m\u001b[0m\u001b[0m\n",
      "\u001b[1;32m~\\AppData\\Local\\Programs\\Python\\Python38\\lib\\timeit.py\u001b[0m in \u001b[0;36minner\u001b[1;34m(_it, _timer)\u001b[0m\n",
      "\u001b[1;31mNameError\u001b[0m: name 'arr' is not defined"
     ]
    }
   ],
   "source": [
    "import timeit\n",
    "\n",
    "# output = [ 0 for i in range(len(arr))]\n",
    "# for i in range(len(arr)):\n",
    "#     output[i] = 1.0 / arr[i]\n",
    "\n",
    "expr_1 = 'output = [ 0 for i in range(len(arr))]\\nfor i in range(len(arr)):\\n\\toutput[i] = 1.0 / arr[i]'\n",
    "\n",
    "print(timeit.timeit(expr_1, number = 10000))\n"
   ]
  },
  {
   "cell_type": "code",
   "execution_count": 114,
   "id": "dominican-still",
   "metadata": {},
   "outputs": [],
   "source": [
    "import timer_lab as tmer\n",
    "\n",
    "# timer_asd.bestoftotal()"
   ]
  },
  {
   "cell_type": "code",
   "execution_count": null,
   "id": "blond-favor",
   "metadata": {},
   "outputs": [],
   "source": []
  }
 ],
 "metadata": {
  "kernelspec": {
   "display_name": "Python 3",
   "language": "python",
   "name": "python3"
  },
  "language_info": {
   "codemirror_mode": {
    "name": "ipython",
    "version": 3
   },
   "file_extension": ".py",
   "mimetype": "text/x-python",
   "name": "python",
   "nbconvert_exporter": "python",
   "pygments_lexer": "ipython3",
   "version": "3.8.6"
  }
 },
 "nbformat": 4,
 "nbformat_minor": 5
}
