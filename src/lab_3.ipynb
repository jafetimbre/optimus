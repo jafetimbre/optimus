{
  "nbformat": 4,
  "nbformat_minor": 5,
  "metadata": {
    "kernelspec": {
      "display_name": "Python 3",
      "language": "python",
      "name": "python3"
    },
    "language_info": {
      "codemirror_mode": {
        "name": "ipython",
        "version": 3
      },
      "file_extension": ".py",
      "mimetype": "text/x-python",
      "name": "python",
      "nbconvert_exporter": "python",
      "pygments_lexer": "ipython3",
      "version": "3.8.6"
    },
    "colab": {
      "name": "lab_3.ipynb",
      "provenance": [],
      "toc_visible": true,
      "include_colab_link": true
    }
  },
  "cells": [
    {
      "cell_type": "markdown",
      "metadata": {
        "id": "view-in-github",
        "colab_type": "text"
      },
      "source": [
        "<a href=\"https://colab.research.google.com/github/jafetimbre/optimus/blob/master/src/lab_3.ipynb\" target=\"_parent\"><img src=\"https://colab.research.google.com/assets/colab-badge.svg\" alt=\"Open In Colab\"/></a>"
      ]
    },
    {
      "cell_type": "markdown",
      "metadata": {
        "id": "mIoylD6KtVYi"
      },
      "source": [
        "Descarcarea librariei custom de masurare a timpilor"
      ],
      "id": "mIoylD6KtVYi"
    },
    {
      "cell_type": "code",
      "metadata": {
        "id": "Q8j7_T9TtNYM",
        "outputId": "ad77ecfb-e123-48d1-f7ce-07e03dae7d92",
        "colab": {
          "base_uri": "https://localhost:8080/"
        }
      },
      "source": [
        "!wget https://raw.githubusercontent.com/jafetimbre/optimus/master/lib/opt_timer.py"
      ],
      "id": "Q8j7_T9TtNYM",
      "execution_count": 3,
      "outputs": [
        {
          "output_type": "stream",
          "text": [
            "--2021-02-15 12:41:30--  https://raw.githubusercontent.com/jafetimbre/optimus/master/lib/opt_timer.py\n",
            "Resolving raw.githubusercontent.com (raw.githubusercontent.com)... 185.199.108.133, 185.199.109.133, 185.199.110.133, ...\n",
            "Connecting to raw.githubusercontent.com (raw.githubusercontent.com)|185.199.108.133|:443... connected.\n",
            "HTTP request sent, awaiting response... 200 OK\n",
            "Length: 1362 (1.3K) [text/plain]\n",
            "Saving to: ‘opt_timer.py’\n",
            "\n",
            "opt_timer.py        100%[===================>]   1.33K  --.-KB/s    in 0s      \n",
            "\n",
            "2021-02-15 12:41:30 (47.7 MB/s) - ‘opt_timer.py’ saved [1362/1362]\n",
            "\n"
          ],
          "name": "stdout"
        }
      ]
    },
    {
      "cell_type": "markdown",
      "metadata": {
        "id": "6KmyXIr_s1y6"
      },
      "source": [
        "Importarea librariilor"
      ],
      "id": "6KmyXIr_s1y6"
    },
    {
      "cell_type": "code",
      "metadata": {
        "id": "6kpj8zMjs7QI"
      },
      "source": [
        "import numpy as np\r\n",
        "import pandas as pd\r\n",
        "import matplotlib.pyplot as plt\r\n",
        "\r\n",
        "import opt_timer as tmr"
      ],
      "id": "6kpj8zMjs7QI",
      "execution_count": 4,
      "outputs": []
    },
    {
      "cell_type": "markdown",
      "metadata": {
        "id": "txikTi8LYUmU"
      },
      "source": [
        "# Laboratorul 3"
      ],
      "id": "txikTi8LYUmU"
    },
    {
      "cell_type": "code",
      "metadata": {
        "id": "OSxxyJ1XYq46"
      },
      "source": [
        ""
      ],
      "id": "OSxxyJ1XYq46",
      "execution_count": null,
      "outputs": []
    }
  ]
}