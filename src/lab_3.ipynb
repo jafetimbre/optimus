{
  "nbformat": 4,
  "nbformat_minor": 5,
  "metadata": {
    "kernelspec": {
      "display_name": "Python 3",
      "language": "python",
      "name": "python3"
    },
    "language_info": {
      "codemirror_mode": {
        "name": "ipython",
        "version": 3
      },
      "file_extension": ".py",
      "mimetype": "text/x-python",
      "name": "python",
      "nbconvert_exporter": "python",
      "pygments_lexer": "ipython3",
      "version": "3.8.6"
    },
    "colab": {
      "name": "lab_3.ipynb",
      "provenance": [],
      "include_colab_link": true
    }
  },
  "cells": [
    {
      "cell_type": "markdown",
      "metadata": {
        "id": "view-in-github",
        "colab_type": "text"
      },
      "source": [
        "<a href=\"https://colab.research.google.com/github/jafetimbre/optimus/blob/master/src/lab_3.ipynb\" target=\"_parent\"><img src=\"https://colab.research.google.com/assets/colab-badge.svg\" alt=\"Open In Colab\"/></a>"
      ]
    },
    {
      "cell_type": "markdown",
      "metadata": {
        "id": "mIoylD6KtVYi"
      },
      "source": [
        "Descarcarea librariei custom de masurare a timpilor"
      ],
      "id": "mIoylD6KtVYi"
    },
    {
      "cell_type": "code",
      "metadata": {
        "id": "Q8j7_T9TtNYM",
        "colab": {
          "base_uri": "https://localhost:8080/"
        },
        "outputId": "ad77ecfb-e123-48d1-f7ce-07e03dae7d92"
      },
      "source": [
        "!wget https://raw.githubusercontent.com/jafetimbre/optimus/master/lib/opt_timer.py"
      ],
      "id": "Q8j7_T9TtNYM",
      "execution_count": null,
      "outputs": [
        {
          "output_type": "stream",
          "text": [
            "--2021-02-15 12:41:30--  https://raw.githubusercontent.com/jafetimbre/optimus/master/lib/opt_timer.py\n",
            "Resolving raw.githubusercontent.com (raw.githubusercontent.com)... 185.199.108.133, 185.199.109.133, 185.199.110.133, ...\n",
            "Connecting to raw.githubusercontent.com (raw.githubusercontent.com)|185.199.108.133|:443... connected.\n",
            "HTTP request sent, awaiting response... 200 OK\n",
            "Length: 1362 (1.3K) [text/plain]\n",
            "Saving to: ‘opt_timer.py’\n",
            "\n",
            "opt_timer.py        100%[===================>]   1.33K  --.-KB/s    in 0s      \n",
            "\n",
            "2021-02-15 12:41:30 (47.7 MB/s) - ‘opt_timer.py’ saved [1362/1362]\n",
            "\n"
          ],
          "name": "stdout"
        }
      ]
    },
    {
      "cell_type": "markdown",
      "metadata": {
        "id": "6KmyXIr_s1y6"
      },
      "source": [
        "Importarea librariilor"
      ],
      "id": "6KmyXIr_s1y6"
    },
    {
      "cell_type": "code",
      "metadata": {
        "id": "6kpj8zMjs7QI"
      },
      "source": [
        "import numpy as np\r\n",
        "import pandas as pd\r\n",
        "import matplotlib.pyplot as plt\r\n",
        "import string\r\n",
        "import random\r\n",
        "import timeit\r\n",
        "\r\n",
        "# import opt_timer as tmr"
      ],
      "id": "6kpj8zMjs7QI",
      "execution_count": 38,
      "outputs": []
    },
    {
      "cell_type": "markdown",
      "metadata": {
        "id": "txikTi8LYUmU"
      },
      "source": [
        "# Laboratorul 3"
      ],
      "id": "txikTi8LYUmU"
    },
    {
      "cell_type": "code",
      "metadata": {
        "colab": {
          "base_uri": "https://localhost:8080/"
        },
        "id": "zpPAeRVDcPHm",
        "outputId": "606d1846-7bd4-461f-fc44-1d853fd5b7dc"
      },
      "source": [
        "nume_produse = [i for i in string.ascii_lowercase[:20]]\r\n",
        "pret_produse = [round(random.random()*(random.random()*100), 2) for i in range(20)]\r\n",
        "\r\n",
        "produse = pd.Series(pret_produse, index=nume_produse)\r\n",
        "print(produse)"
      ],
      "id": "zpPAeRVDcPHm",
      "execution_count": 22,
      "outputs": [
        {
          "output_type": "stream",
          "text": [
            "a     2.66\n",
            "b    19.55\n",
            "c    26.54\n",
            "d     4.11\n",
            "e    76.90\n",
            "f    81.10\n",
            "g    55.44\n",
            "h    26.68\n",
            "i    15.72\n",
            "j     8.50\n",
            "k    13.97\n",
            "l    37.12\n",
            "m    25.45\n",
            "n    23.84\n",
            "o     6.60\n",
            "p    36.46\n",
            "q    13.98\n",
            "r     0.29\n",
            "s    39.22\n",
            "t    79.45\n",
            "dtype: float64\n"
          ],
          "name": "stdout"
        }
      ]
    },
    {
      "cell_type": "code",
      "metadata": {
        "colab": {
          "base_uri": "https://localhost:8080/"
        },
        "id": "gcEyPW1FZwv7",
        "outputId": "2806e48b-7114-4d16-9eb4-57d9b136e53f"
      },
      "source": [
        "produse[:10]"
      ],
      "id": "gcEyPW1FZwv7",
      "execution_count": 23,
      "outputs": [
        {
          "output_type": "execute_result",
          "data": {
            "text/plain": [
              "a     2.66\n",
              "b    19.55\n",
              "c    26.54\n",
              "d     4.11\n",
              "e    76.90\n",
              "f    81.10\n",
              "g    55.44\n",
              "h    26.68\n",
              "i    15.72\n",
              "j     8.50\n",
              "dtype: float64"
            ]
          },
          "metadata": {
            "tags": []
          },
          "execution_count": 23
        }
      ]
    },
    {
      "cell_type": "code",
      "metadata": {
        "id": "bpx1oAncdnZJ"
      },
      "source": [
        "non_zero_ind = [ 1, 3, 6, 21, 32, 56, 61 ,81 ,82 ,97 ]\r\n",
        "non_zero_val = [ round(random.random() * 100, 2) for i in range(10) ]\r\n",
        "\r\n",
        "vec_rar_a = pd.Series(non_zero_val, index=non_zero_ind)\r\n",
        "\r\n",
        "vec_rar_b = np.zeros(100)\r\n",
        "vec_rar_b[non_zero_ind] = non_zero_val"
      ],
      "id": "bpx1oAncdnZJ",
      "execution_count": 34,
      "outputs": []
    },
    {
      "cell_type": "code",
      "metadata": {
        "colab": {
          "base_uri": "https://localhost:8080/"
        },
        "id": "MJROoHFGlhnZ",
        "outputId": "e47a72e6-0617-4f42-989f-1d338ad52636"
      },
      "source": [
        "print(vec_rar_a)"
      ],
      "id": "MJROoHFGlhnZ",
      "execution_count": 52,
      "outputs": [
        {
          "output_type": "stream",
          "text": [
            "1     97.1\n",
            "3     14.5\n",
            "6     64.9\n",
            "21    17.8\n",
            "32    46.3\n",
            "56     5.4\n",
            "61    72.4\n",
            "81     3.1\n",
            "82    44.5\n",
            "97    17.8\n",
            "dtype: float64\n"
          ],
          "name": "stdout"
        }
      ]
    },
    {
      "cell_type": "code",
      "metadata": {
        "colab": {
          "base_uri": "https://localhost:8080/"
        },
        "id": "1rqPD_MxgqJo",
        "outputId": "ac1859dd-5ff6-4df1-b7f0-98be6d706e2b"
      },
      "source": [
        "print(f'Afisarea folosind keys() peste matricea A : { timeit.timeit(\"vec_rar_a.keys()\", globals=globals(), number = 1000) }')"
      ],
      "id": "1rqPD_MxgqJo",
      "execution_count": 42,
      "outputs": [
        {
          "output_type": "stream",
          "text": [
            "Afisarea folosind keys() peste matricea A : 0.00040495299981557764\n"
          ],
          "name": "stdout"
        }
      ]
    },
    {
      "cell_type": "code",
      "metadata": {
        "colab": {
          "base_uri": "https://localhost:8080/"
        },
        "id": "GTutgCksg55K",
        "outputId": "a7f0d1dd-486d-4ce4-8f8f-c36eb321a3ea"
      },
      "source": [
        "print([ (i,v) for i,v in vec_rar_a.items() ])"
      ],
      "id": "GTutgCksg55K",
      "execution_count": 45,
      "outputs": [
        {
          "output_type": "stream",
          "text": [
            "[(1, 97.1), (3, 14.5), (6, 64.9), (21, 17.8), (32, 46.3), (56, 5.4), (61, 72.4), (81, 3.1), (82, 44.5), (97, 17.8)]\n"
          ],
          "name": "stdout"
        }
      ]
    },
    {
      "cell_type": "code",
      "metadata": {
        "colab": {
          "base_uri": "https://localhost:8080/"
        },
        "id": "-SFh1cM8g8WE",
        "outputId": "6258bf95-ec3a-4ff7-8d6d-92187e8bad97"
      },
      "source": [
        "li = np.zeros(100)\r\n",
        "for i,v in vec_rar_a.items():\r\n",
        "    li[i] = v\r\n",
        "\r\n",
        "print(li)"
      ],
      "id": "-SFh1cM8g8WE",
      "execution_count": 48,
      "outputs": [
        {
          "output_type": "stream",
          "text": [
            "[ 0.  97.1  0.  14.5  0.   0.  64.9  0.   0.   0.   0.   0.   0.   0.\n",
            "  0.   0.   0.   0.   0.   0.   0.  17.8  0.   0.   0.   0.   0.   0.\n",
            "  0.   0.   0.   0.  46.3  0.   0.   0.   0.   0.   0.   0.   0.   0.\n",
            "  0.   0.   0.   0.   0.   0.   0.   0.   0.   0.   0.   0.   0.   0.\n",
            "  5.4  0.   0.   0.   0.  72.4  0.   0.   0.   0.   0.   0.   0.   0.\n",
            "  0.   0.   0.   0.   0.   0.   0.   0.   0.   0.   0.   3.1 44.5  0.\n",
            "  0.   0.   0.   0.   0.   0.   0.   0.   0.   0.   0.   0.   0.  17.8\n",
            "  0.   0. ]\n"
          ],
          "name": "stdout"
        }
      ]
    },
    {
      "cell_type": "code",
      "metadata": {
        "colab": {
          "base_uri": "https://localhost:8080/"
        },
        "id": "fQHh6IhhjKY1",
        "outputId": "5464960f-bc6a-4b4f-8d89-d4e0140bba56"
      },
      "source": [
        "vec_rar_a[:5]"
      ],
      "id": "fQHh6IhhjKY1",
      "execution_count": 50,
      "outputs": [
        {
          "output_type": "execute_result",
          "data": {
            "text/plain": [
              "1     97.1\n",
              "3     14.5\n",
              "6     64.9\n",
              "21    17.8\n",
              "32    46.3\n",
              "dtype: float64"
            ]
          },
          "metadata": {
            "tags": []
          },
          "execution_count": 50
        }
      ]
    },
    {
      "cell_type": "code",
      "metadata": {
        "colab": {
          "base_uri": "https://localhost:8080/"
        },
        "id": "mPtW2dAzkK8y",
        "outputId": "66840de9-1ad5-4b3f-af5b-5b1fab30b913"
      },
      "source": [
        "li[:5]"
      ],
      "id": "mPtW2dAzkK8y",
      "execution_count": 51,
      "outputs": [
        {
          "output_type": "execute_result",
          "data": {
            "text/plain": [
              "array([ 0. , 97.1,  0. , 14.5,  0. ])"
            ]
          },
          "metadata": {
            "tags": []
          },
          "execution_count": 51
        }
      ]
    },
    {
      "cell_type": "markdown",
      "metadata": {
        "id": "8nviq3ezm999"
      },
      "source": [
        "# DataFrame"
      ],
      "id": "8nviq3ezm999"
    },
    {
      "cell_type": "code",
      "metadata": {
        "colab": {
          "base_uri": "https://localhost:8080/",
          "height": 419
        },
        "id": "61za6566kO9D",
        "outputId": "e3b92d1e-8640-4726-8345-872233a12b18"
      },
      "source": [
        "nume_prod = [ i+j+p for p in string.ascii_lowercase for j in string.ascii_lowercase for i in string.ascii_lowercase ]\r\n",
        "pret_prod = [ round(random.random()*100, 2) for i in range(len(nume_prod)) ]\r\n",
        "cant_prod = [ round(random.random()*100) for i in range(len(nume_prod)) ]\r\n",
        "\r\n",
        "s_pret = pd.Series(pret_prod, index=nume_prod, name='pret')\r\n",
        "s_cant = pd.Series(cant_prod, index=nume_prod, name='cantitate')\r\n",
        "\r\n",
        "df = pd.DataFrame({'pret': s_pret, 'cantitate': s_cant})\r\n",
        "df"
      ],
      "id": "61za6566kO9D",
      "execution_count": 82,
      "outputs": [
        {
          "output_type": "execute_result",
          "data": {
            "text/html": [
              "<div>\n",
              "<style scoped>\n",
              "    .dataframe tbody tr th:only-of-type {\n",
              "        vertical-align: middle;\n",
              "    }\n",
              "\n",
              "    .dataframe tbody tr th {\n",
              "        vertical-align: top;\n",
              "    }\n",
              "\n",
              "    .dataframe thead th {\n",
              "        text-align: right;\n",
              "    }\n",
              "</style>\n",
              "<table border=\"1\" class=\"dataframe\">\n",
              "  <thead>\n",
              "    <tr style=\"text-align: right;\">\n",
              "      <th></th>\n",
              "      <th>pret</th>\n",
              "      <th>cantitate</th>\n",
              "    </tr>\n",
              "  </thead>\n",
              "  <tbody>\n",
              "    <tr>\n",
              "      <th>aaa</th>\n",
              "      <td>60.22</td>\n",
              "      <td>41</td>\n",
              "    </tr>\n",
              "    <tr>\n",
              "      <th>baa</th>\n",
              "      <td>22.80</td>\n",
              "      <td>21</td>\n",
              "    </tr>\n",
              "    <tr>\n",
              "      <th>caa</th>\n",
              "      <td>77.61</td>\n",
              "      <td>24</td>\n",
              "    </tr>\n",
              "    <tr>\n",
              "      <th>daa</th>\n",
              "      <td>53.85</td>\n",
              "      <td>37</td>\n",
              "    </tr>\n",
              "    <tr>\n",
              "      <th>eaa</th>\n",
              "      <td>95.18</td>\n",
              "      <td>10</td>\n",
              "    </tr>\n",
              "    <tr>\n",
              "      <th>...</th>\n",
              "      <td>...</td>\n",
              "      <td>...</td>\n",
              "    </tr>\n",
              "    <tr>\n",
              "      <th>vzz</th>\n",
              "      <td>85.72</td>\n",
              "      <td>17</td>\n",
              "    </tr>\n",
              "    <tr>\n",
              "      <th>wzz</th>\n",
              "      <td>67.03</td>\n",
              "      <td>22</td>\n",
              "    </tr>\n",
              "    <tr>\n",
              "      <th>xzz</th>\n",
              "      <td>70.53</td>\n",
              "      <td>36</td>\n",
              "    </tr>\n",
              "    <tr>\n",
              "      <th>yzz</th>\n",
              "      <td>71.90</td>\n",
              "      <td>65</td>\n",
              "    </tr>\n",
              "    <tr>\n",
              "      <th>zzz</th>\n",
              "      <td>64.31</td>\n",
              "      <td>58</td>\n",
              "    </tr>\n",
              "  </tbody>\n",
              "</table>\n",
              "<p>17576 rows × 2 columns</p>\n",
              "</div>"
            ],
            "text/plain": [
              "      pret  cantitate\n",
              "aaa  60.22         41\n",
              "baa  22.80         21\n",
              "caa  77.61         24\n",
              "daa  53.85         37\n",
              "eaa  95.18         10\n",
              "..     ...        ...\n",
              "vzz  85.72         17\n",
              "wzz  67.03         22\n",
              "xzz  70.53         36\n",
              "yzz  71.90         65\n",
              "zzz  64.31         58\n",
              "\n",
              "[17576 rows x 2 columns]"
            ]
          },
          "metadata": {
            "tags": []
          },
          "execution_count": 82
        }
      ]
    },
    {
      "cell_type": "code",
      "metadata": {
        "id": "lEa2dTiYtT7E",
        "outputId": "b706f645-ebaf-4cc9-9ce7-146d00f65ac1",
        "colab": {
          "base_uri": "https://localhost:8080/"
        }
      },
      "source": [
        "for prod in df.index [len(df)-10:]:\r\n",
        "    print(f'Produsul ({prod}), pretul ({df[\"pret\"][prod]}), cantitate ({df[\"cantitate\"][prod]})')"
      ],
      "id": "lEa2dTiYtT7E",
      "execution_count": 102,
      "outputs": [
        {
          "output_type": "stream",
          "text": [
            "Produsul (qzz), pretul (62.59), cantitate (74)\n",
            "Produsul (rzz), pretul (63.26), cantitate (21)\n",
            "Produsul (szz), pretul (7.59), cantitate (33)\n",
            "Produsul (tzz), pretul (20.56), cantitate (4)\n",
            "Produsul (uzz), pretul (28.9), cantitate (18)\n",
            "Produsul (vzz), pretul (85.72), cantitate (17)\n",
            "Produsul (wzz), pretul (67.03), cantitate (22)\n",
            "Produsul (xzz), pretul (70.53), cantitate (36)\n",
            "Produsul (yzz), pretul (71.9), cantitate (65)\n",
            "Produsul (zzz), pretul (64.31), cantitate (58)\n"
          ],
          "name": "stdout"
        }
      ]
    },
    {
      "cell_type": "code",
      "metadata": {
        "id": "aM-_2vlStrr0",
        "outputId": "60a1247e-de59-43bc-a4fb-1579abf743f2",
        "colab": {
          "base_uri": "https://localhost:8080/",
          "height": 419
        }
      },
      "source": [
        "nume_sensor = [ f'senzor{i}' for i in range(len(nume_sensor)) ]\r\n",
        "x_cord = [ round(random.random()*100) for i in range(len(nume_sensor)) ]\r\n",
        "y_cord = [ round(random.random()*100) for i in range(len(nume_sensor)) ]\r\n",
        "val = [ round(random.random()*10, 2) for i in range(len(nume_sensor)) ]\r\n",
        "\r\n",
        "senzori = pd.DataFrame({'x_cord': x_cord, 'y_cord': y_cord, 'val': val}, index=nume_sensor)\r\n",
        "senzori"
      ],
      "id": "aM-_2vlStrr0",
      "execution_count": 113,
      "outputs": [
        {
          "output_type": "execute_result",
          "data": {
            "text/html": [
              "<div>\n",
              "<style scoped>\n",
              "    .dataframe tbody tr th:only-of-type {\n",
              "        vertical-align: middle;\n",
              "    }\n",
              "\n",
              "    .dataframe tbody tr th {\n",
              "        vertical-align: top;\n",
              "    }\n",
              "\n",
              "    .dataframe thead th {\n",
              "        text-align: right;\n",
              "    }\n",
              "</style>\n",
              "<table border=\"1\" class=\"dataframe\">\n",
              "  <thead>\n",
              "    <tr style=\"text-align: right;\">\n",
              "      <th></th>\n",
              "      <th>x_cord</th>\n",
              "      <th>y_cord</th>\n",
              "      <th>val</th>\n",
              "    </tr>\n",
              "  </thead>\n",
              "  <tbody>\n",
              "    <tr>\n",
              "      <th>senzor0</th>\n",
              "      <td>5</td>\n",
              "      <td>26</td>\n",
              "      <td>6.96</td>\n",
              "    </tr>\n",
              "    <tr>\n",
              "      <th>senzor1</th>\n",
              "      <td>23</td>\n",
              "      <td>61</td>\n",
              "      <td>2.14</td>\n",
              "    </tr>\n",
              "    <tr>\n",
              "      <th>senzor2</th>\n",
              "      <td>92</td>\n",
              "      <td>18</td>\n",
              "      <td>3.82</td>\n",
              "    </tr>\n",
              "    <tr>\n",
              "      <th>senzor3</th>\n",
              "      <td>19</td>\n",
              "      <td>37</td>\n",
              "      <td>0.30</td>\n",
              "    </tr>\n",
              "    <tr>\n",
              "      <th>senzor4</th>\n",
              "      <td>2</td>\n",
              "      <td>6</td>\n",
              "      <td>4.15</td>\n",
              "    </tr>\n",
              "    <tr>\n",
              "      <th>...</th>\n",
              "      <td>...</td>\n",
              "      <td>...</td>\n",
              "      <td>...</td>\n",
              "    </tr>\n",
              "    <tr>\n",
              "      <th>senzor995</th>\n",
              "      <td>15</td>\n",
              "      <td>33</td>\n",
              "      <td>1.86</td>\n",
              "    </tr>\n",
              "    <tr>\n",
              "      <th>senzor996</th>\n",
              "      <td>43</td>\n",
              "      <td>8</td>\n",
              "      <td>5.92</td>\n",
              "    </tr>\n",
              "    <tr>\n",
              "      <th>senzor997</th>\n",
              "      <td>67</td>\n",
              "      <td>25</td>\n",
              "      <td>1.48</td>\n",
              "    </tr>\n",
              "    <tr>\n",
              "      <th>senzor998</th>\n",
              "      <td>57</td>\n",
              "      <td>19</td>\n",
              "      <td>2.15</td>\n",
              "    </tr>\n",
              "    <tr>\n",
              "      <th>senzor999</th>\n",
              "      <td>53</td>\n",
              "      <td>63</td>\n",
              "      <td>9.12</td>\n",
              "    </tr>\n",
              "  </tbody>\n",
              "</table>\n",
              "<p>1000 rows × 3 columns</p>\n",
              "</div>"
            ],
            "text/plain": [
              "           x_cord  y_cord   val\n",
              "senzor0         5      26  6.96\n",
              "senzor1        23      61  2.14\n",
              "senzor2        92      18  3.82\n",
              "senzor3        19      37  0.30\n",
              "senzor4         2       6  4.15\n",
              "...           ...     ...   ...\n",
              "senzor995      15      33  1.86\n",
              "senzor996      43       8  5.92\n",
              "senzor997      67      25  1.48\n",
              "senzor998      57      19  2.15\n",
              "senzor999      53      63  9.12\n",
              "\n",
              "[1000 rows x 3 columns]"
            ]
          },
          "metadata": {
            "tags": []
          },
          "execution_count": 113
        }
      ]
    },
    {
      "cell_type": "code",
      "metadata": {
        "id": "1lIwUI2zv6Wz",
        "outputId": "0715bca8-98cf-419d-d5c9-8a1db5cc141f",
        "colab": {
          "base_uri": "https://localhost:8080/"
        }
      },
      "source": [
        "splitted = np.array_split(senzori, 10)\r\n",
        "splitted"
      ],
      "id": "1lIwUI2zv6Wz",
      "execution_count": 112,
      "outputs": [
        {
          "output_type": "execute_result",
          "data": {
            "text/plain": [
              "[          x_cord  y_cord   val\n",
              " senzor0       26      59  5.58\n",
              " senzor1       54      44  6.13\n",
              " senzor2       91       9  2.64\n",
              " senzor3       74      36  3.17\n",
              " senzor4       56      93  2.21\n",
              " ...          ...     ...   ...\n",
              " senzor95      60      75  4.18\n",
              " senzor96      23      60  9.22\n",
              " senzor97      60      17  0.93\n",
              " senzor98      68      30  3.73\n",
              " senzor99      90      55  6.64\n",
              " \n",
              " [100 rows x 3 columns],            x_cord  y_cord   val\n",
              " senzor100      46      98  4.82\n",
              " senzor101      25      87  2.73\n",
              " senzor102      15       7  2.62\n",
              " senzor103      52      10  4.28\n",
              " senzor104      96      51  8.32\n",
              " ...           ...     ...   ...\n",
              " senzor195      64      66  8.63\n",
              " senzor196      74      26  6.04\n",
              " senzor197      89      96  7.04\n",
              " senzor198      37      91  6.78\n",
              " senzor199      71      46  9.74\n",
              " \n",
              " [100 rows x 3 columns],            x_cord  y_cord   val\n",
              " senzor200      68      76  3.63\n",
              " senzor201      20      63  3.73\n",
              " senzor202      47      98  6.20\n",
              " senzor203      61      80  3.92\n",
              " senzor204      61      48  6.00\n",
              " ...           ...     ...   ...\n",
              " senzor295       0       9  0.52\n",
              " senzor296      39      17  0.75\n",
              " senzor297      73      26  9.34\n",
              " senzor298      41      12  0.30\n",
              " senzor299      32       3  3.51\n",
              " \n",
              " [100 rows x 3 columns],            x_cord  y_cord   val\n",
              " senzor300      13      43  8.37\n",
              " senzor301      68      56  9.81\n",
              " senzor302      74      64  4.64\n",
              " senzor303      71      36  2.71\n",
              " senzor304      14      64  7.08\n",
              " ...           ...     ...   ...\n",
              " senzor395      62      24  6.87\n",
              " senzor396      69      54  4.58\n",
              " senzor397      88      92  2.84\n",
              " senzor398      87      33  0.42\n",
              " senzor399      92      21  2.44\n",
              " \n",
              " [100 rows x 3 columns],            x_cord  y_cord   val\n",
              " senzor400      58      34  9.90\n",
              " senzor401      44      29  0.57\n",
              " senzor402      41      94  6.99\n",
              " senzor403      66      89  5.62\n",
              " senzor404      93      66  2.08\n",
              " ...           ...     ...   ...\n",
              " senzor495      84      71  8.42\n",
              " senzor496      64      20  1.06\n",
              " senzor497      60      34  4.24\n",
              " senzor498      34      66  8.66\n",
              " senzor499      96      94  9.66\n",
              " \n",
              " [100 rows x 3 columns],            x_cord  y_cord   val\n",
              " senzor500      99      18  8.59\n",
              " senzor501      32      18  3.93\n",
              " senzor502      78      32  6.82\n",
              " senzor503      91       1  0.06\n",
              " senzor504      57       5  7.48\n",
              " ...           ...     ...   ...\n",
              " senzor595      21      74  6.65\n",
              " senzor596      29      27  6.87\n",
              " senzor597      75      47  9.41\n",
              " senzor598      91      31  9.01\n",
              " senzor599      57      87  7.75\n",
              " \n",
              " [100 rows x 3 columns],            x_cord  y_cord   val\n",
              " senzor600      71      45  2.83\n",
              " senzor601      17       8  3.47\n",
              " senzor602      45      83  9.55\n",
              " senzor603      39      47  3.85\n",
              " senzor604      25      45  4.93\n",
              " ...           ...     ...   ...\n",
              " senzor695      27      95  2.90\n",
              " senzor696      60      15  7.24\n",
              " senzor697      29      30  5.63\n",
              " senzor698      13       7  6.42\n",
              " senzor699      69      14  2.72\n",
              " \n",
              " [100 rows x 3 columns],            x_cord  y_cord   val\n",
              " senzor700      46      18  8.17\n",
              " senzor701      69      17  8.42\n",
              " senzor702      88      19  2.54\n",
              " senzor703      69      19  1.61\n",
              " senzor704      11     100  1.80\n",
              " ...           ...     ...   ...\n",
              " senzor795       6      24  2.35\n",
              " senzor796       9      31  3.57\n",
              " senzor797     100      77  9.88\n",
              " senzor798      89      22  7.69\n",
              " senzor799      32      59  9.93\n",
              " \n",
              " [100 rows x 3 columns],            x_cord  y_cord   val\n",
              " senzor800      87      74  8.54\n",
              " senzor801      89      36  3.38\n",
              " senzor802      52      26  0.62\n",
              " senzor803      58      82  6.06\n",
              " senzor804      88      94  1.56\n",
              " ...           ...     ...   ...\n",
              " senzor895      23      78  3.46\n",
              " senzor896      12      77  3.63\n",
              " senzor897      23      83  0.78\n",
              " senzor898      40       7  3.75\n",
              " senzor899      50      53  2.31\n",
              " \n",
              " [100 rows x 3 columns],            x_cord  y_cord   val\n",
              " senzor900      64      93  8.66\n",
              " senzor901      11      52  1.36\n",
              " senzor902      73       9  8.94\n",
              " senzor903      29      54  3.51\n",
              " senzor904      67      64  5.05\n",
              " ...           ...     ...   ...\n",
              " senzor995      91      23  1.72\n",
              " senzor996      48      20  3.62\n",
              " senzor997      62      19  4.29\n",
              " senzor998      55      41  4.09\n",
              " senzor999      43      76  7.66\n",
              " \n",
              " [100 rows x 3 columns]]"
            ]
          },
          "metadata": {
            "tags": []
          },
          "execution_count": 112
        }
      ]
    },
    {
      "cell_type": "code",
      "metadata": {
        "id": "G86_Hz53xqdP"
      },
      "source": [
        ""
      ],
      "id": "G86_Hz53xqdP",
      "execution_count": null,
      "outputs": []
    }
  ]
}