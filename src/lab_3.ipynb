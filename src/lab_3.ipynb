{
  "nbformat": 4,
  "nbformat_minor": 5,
  "metadata": {
    "kernelspec": {
      "display_name": "Python 3",
      "language": "python",
      "name": "python3"
    },
    "language_info": {
      "codemirror_mode": {
        "name": "ipython",
        "version": 3
      },
      "file_extension": ".py",
      "mimetype": "text/x-python",
      "name": "python",
      "nbconvert_exporter": "python",
      "pygments_lexer": "ipython3",
      "version": "3.8.6"
    },
    "colab": {
      "name": "lab_3.ipynb",
      "provenance": [],
      "include_colab_link": true
    }
  },
  "cells": [
    {
      "cell_type": "markdown",
      "metadata": {
        "id": "view-in-github",
        "colab_type": "text"
      },
      "source": [
        "<a href=\"https://colab.research.google.com/github/jafetimbre/optimus/blob/master/src/lab_3.ipynb\" target=\"_parent\"><img src=\"https://colab.research.google.com/assets/colab-badge.svg\" alt=\"Open In Colab\"/></a>"
      ]
    },
    {
      "cell_type": "markdown",
      "metadata": {
        "id": "mIoylD6KtVYi"
      },
      "source": [
        "Descarcarea librariei custom de masurare a timpilor"
      ],
      "id": "mIoylD6KtVYi"
    },
    {
      "cell_type": "code",
      "metadata": {
        "id": "Q8j7_T9TtNYM",
        "colab": {
          "base_uri": "https://localhost:8080/"
        },
        "outputId": "ad77ecfb-e123-48d1-f7ce-07e03dae7d92"
      },
      "source": [
        "!wget https://raw.githubusercontent.com/jafetimbre/optimus/master/lib/opt_timer.py"
      ],
      "id": "Q8j7_T9TtNYM",
      "execution_count": null,
      "outputs": [
        {
          "output_type": "stream",
          "text": [
            "--2021-02-15 12:41:30--  https://raw.githubusercontent.com/jafetimbre/optimus/master/lib/opt_timer.py\n",
            "Resolving raw.githubusercontent.com (raw.githubusercontent.com)... 185.199.108.133, 185.199.109.133, 185.199.110.133, ...\n",
            "Connecting to raw.githubusercontent.com (raw.githubusercontent.com)|185.199.108.133|:443... connected.\n",
            "HTTP request sent, awaiting response... 200 OK\n",
            "Length: 1362 (1.3K) [text/plain]\n",
            "Saving to: ‘opt_timer.py’\n",
            "\n",
            "opt_timer.py        100%[===================>]   1.33K  --.-KB/s    in 0s      \n",
            "\n",
            "2021-02-15 12:41:30 (47.7 MB/s) - ‘opt_timer.py’ saved [1362/1362]\n",
            "\n"
          ],
          "name": "stdout"
        }
      ]
    },
    {
      "cell_type": "markdown",
      "metadata": {
        "id": "6KmyXIr_s1y6"
      },
      "source": [
        "Importarea librariilor"
      ],
      "id": "6KmyXIr_s1y6"
    },
    {
      "cell_type": "code",
      "metadata": {
        "id": "6kpj8zMjs7QI"
      },
      "source": [
        "import numpy as np\r\n",
        "import pandas as pd\r\n",
        "import matplotlib.pyplot as plt\r\n",
        "import string\r\n",
        "import random\r\n",
        "import timeit\r\n",
        "\r\n",
        "# import opt_timer as tmr"
      ],
      "id": "6kpj8zMjs7QI",
      "execution_count": 38,
      "outputs": []
    },
    {
      "cell_type": "markdown",
      "metadata": {
        "id": "txikTi8LYUmU"
      },
      "source": [
        "# Laboratorul 3"
      ],
      "id": "txikTi8LYUmU"
    },
    {
      "cell_type": "code",
      "metadata": {
        "colab": {
          "base_uri": "https://localhost:8080/"
        },
        "id": "zpPAeRVDcPHm",
        "outputId": "606d1846-7bd4-461f-fc44-1d853fd5b7dc"
      },
      "source": [
        "nume_produse = [i for i in string.ascii_lowercase[:20]]\r\n",
        "pret_produse = [round(random.random()*(random.random()*100), 2) for i in range(20)]\r\n",
        "\r\n",
        "produse = pd.Series(pret_produse, index=nume_produse)\r\n",
        "print(produse)"
      ],
      "id": "zpPAeRVDcPHm",
      "execution_count": 22,
      "outputs": [
        {
          "output_type": "stream",
          "text": [
            "a     2.66\n",
            "b    19.55\n",
            "c    26.54\n",
            "d     4.11\n",
            "e    76.90\n",
            "f    81.10\n",
            "g    55.44\n",
            "h    26.68\n",
            "i    15.72\n",
            "j     8.50\n",
            "k    13.97\n",
            "l    37.12\n",
            "m    25.45\n",
            "n    23.84\n",
            "o     6.60\n",
            "p    36.46\n",
            "q    13.98\n",
            "r     0.29\n",
            "s    39.22\n",
            "t    79.45\n",
            "dtype: float64\n"
          ],
          "name": "stdout"
        }
      ]
    },
    {
      "cell_type": "code",
      "metadata": {
        "colab": {
          "base_uri": "https://localhost:8080/"
        },
        "id": "gcEyPW1FZwv7",
        "outputId": "2806e48b-7114-4d16-9eb4-57d9b136e53f"
      },
      "source": [
        "produse[:10]"
      ],
      "id": "gcEyPW1FZwv7",
      "execution_count": 23,
      "outputs": [
        {
          "output_type": "execute_result",
          "data": {
            "text/plain": [
              "a     2.66\n",
              "b    19.55\n",
              "c    26.54\n",
              "d     4.11\n",
              "e    76.90\n",
              "f    81.10\n",
              "g    55.44\n",
              "h    26.68\n",
              "i    15.72\n",
              "j     8.50\n",
              "dtype: float64"
            ]
          },
          "metadata": {
            "tags": []
          },
          "execution_count": 23
        }
      ]
    },
    {
      "cell_type": "code",
      "metadata": {
        "id": "bpx1oAncdnZJ"
      },
      "source": [
        "non_zero_ind = [ 1, 3, 6, 21, 32, 56, 61 ,81 ,82 ,97 ]\r\n",
        "non_zero_val = [ round(random.random() * 100, 2) for i in range(10) ]\r\n",
        "\r\n",
        "vec_rar_a = pd.Series(non_zero_val, index=non_zero_ind)\r\n",
        "\r\n",
        "vec_rar_b = np.zeros(100)\r\n",
        "vec_rar_b[non_zero_ind] = non_zero_val"
      ],
      "id": "bpx1oAncdnZJ",
      "execution_count": 34,
      "outputs": []
    },
    {
      "cell_type": "code",
      "metadata": {
        "colab": {
          "base_uri": "https://localhost:8080/"
        },
        "id": "MJROoHFGlhnZ",
        "outputId": "e47a72e6-0617-4f42-989f-1d338ad52636"
      },
      "source": [
        "print(vec_rar_a)"
      ],
      "id": "MJROoHFGlhnZ",
      "execution_count": 52,
      "outputs": [
        {
          "output_type": "stream",
          "text": [
            "1     97.1\n",
            "3     14.5\n",
            "6     64.9\n",
            "21    17.8\n",
            "32    46.3\n",
            "56     5.4\n",
            "61    72.4\n",
            "81     3.1\n",
            "82    44.5\n",
            "97    17.8\n",
            "dtype: float64\n"
          ],
          "name": "stdout"
        }
      ]
    },
    {
      "cell_type": "code",
      "metadata": {
        "colab": {
          "base_uri": "https://localhost:8080/"
        },
        "id": "1rqPD_MxgqJo",
        "outputId": "ac1859dd-5ff6-4df1-b7f0-98be6d706e2b"
      },
      "source": [
        "print(f'Afisarea folosind keys() peste matricea A : { timeit.timeit(\"vec_rar_a.keys()\", globals=globals(), number = 1000) }')"
      ],
      "id": "1rqPD_MxgqJo",
      "execution_count": 42,
      "outputs": [
        {
          "output_type": "stream",
          "text": [
            "Afisarea folosind keys() peste matricea A : 0.00040495299981557764\n"
          ],
          "name": "stdout"
        }
      ]
    },
    {
      "cell_type": "code",
      "metadata": {
        "colab": {
          "base_uri": "https://localhost:8080/"
        },
        "id": "GTutgCksg55K",
        "outputId": "a7f0d1dd-486d-4ce4-8f8f-c36eb321a3ea"
      },
      "source": [
        "print([ (i,v) for i,v in vec_rar_a.items() ])"
      ],
      "id": "GTutgCksg55K",
      "execution_count": 45,
      "outputs": [
        {
          "output_type": "stream",
          "text": [
            "[(1, 97.1), (3, 14.5), (6, 64.9), (21, 17.8), (32, 46.3), (56, 5.4), (61, 72.4), (81, 3.1), (82, 44.5), (97, 17.8)]\n"
          ],
          "name": "stdout"
        }
      ]
    },
    {
      "cell_type": "code",
      "metadata": {
        "colab": {
          "base_uri": "https://localhost:8080/"
        },
        "id": "-SFh1cM8g8WE",
        "outputId": "6258bf95-ec3a-4ff7-8d6d-92187e8bad97"
      },
      "source": [
        "li = np.zeros(100)\r\n",
        "for i,v in vec_rar_a.items():\r\n",
        "    li[i] = v\r\n",
        "\r\n",
        "print(li)"
      ],
      "id": "-SFh1cM8g8WE",
      "execution_count": 48,
      "outputs": [
        {
          "output_type": "stream",
          "text": [
            "[ 0.  97.1  0.  14.5  0.   0.  64.9  0.   0.   0.   0.   0.   0.   0.\n",
            "  0.   0.   0.   0.   0.   0.   0.  17.8  0.   0.   0.   0.   0.   0.\n",
            "  0.   0.   0.   0.  46.3  0.   0.   0.   0.   0.   0.   0.   0.   0.\n",
            "  0.   0.   0.   0.   0.   0.   0.   0.   0.   0.   0.   0.   0.   0.\n",
            "  5.4  0.   0.   0.   0.  72.4  0.   0.   0.   0.   0.   0.   0.   0.\n",
            "  0.   0.   0.   0.   0.   0.   0.   0.   0.   0.   0.   3.1 44.5  0.\n",
            "  0.   0.   0.   0.   0.   0.   0.   0.   0.   0.   0.   0.   0.  17.8\n",
            "  0.   0. ]\n"
          ],
          "name": "stdout"
        }
      ]
    },
    {
      "cell_type": "code",
      "metadata": {
        "colab": {
          "base_uri": "https://localhost:8080/"
        },
        "id": "fQHh6IhhjKY1",
        "outputId": "5464960f-bc6a-4b4f-8d89-d4e0140bba56"
      },
      "source": [
        "vec_rar_a[:5]"
      ],
      "id": "fQHh6IhhjKY1",
      "execution_count": 50,
      "outputs": [
        {
          "output_type": "execute_result",
          "data": {
            "text/plain": [
              "1     97.1\n",
              "3     14.5\n",
              "6     64.9\n",
              "21    17.8\n",
              "32    46.3\n",
              "dtype: float64"
            ]
          },
          "metadata": {
            "tags": []
          },
          "execution_count": 50
        }
      ]
    },
    {
      "cell_type": "code",
      "metadata": {
        "colab": {
          "base_uri": "https://localhost:8080/"
        },
        "id": "mPtW2dAzkK8y",
        "outputId": "66840de9-1ad5-4b3f-af5b-5b1fab30b913"
      },
      "source": [
        "li[:5]"
      ],
      "id": "mPtW2dAzkK8y",
      "execution_count": 51,
      "outputs": [
        {
          "output_type": "execute_result",
          "data": {
            "text/plain": [
              "array([ 0. , 97.1,  0. , 14.5,  0. ])"
            ]
          },
          "metadata": {
            "tags": []
          },
          "execution_count": 51
        }
      ]
    },
    {
      "cell_type": "code",
      "metadata": {
        "id": "61za6566kO9D"
      },
      "source": [
        ""
      ],
      "id": "61za6566kO9D",
      "execution_count": null,
      "outputs": []
    }
  ]
}