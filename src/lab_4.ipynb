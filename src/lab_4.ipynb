{
  "nbformat": 4,
  "nbformat_minor": 5,
  "metadata": {
    "kernelspec": {
      "display_name": "Python 3",
      "language": "python",
      "name": "python3"
    },
    "language_info": {
      "codemirror_mode": {
        "name": "ipython",
        "version": 3
      },
      "file_extension": ".py",
      "mimetype": "text/x-python",
      "name": "python",
      "nbconvert_exporter": "python",
      "pygments_lexer": "ipython3",
      "version": "3.8.6"
    },
    "colab": {
      "name": "lab_2.ipynb",
      "provenance": [],
      "include_colab_link": true
    }
  },
  "cells": [
    {
      "cell_type": "markdown",
      "metadata": {
        "id": "view-in-github",
        "colab_type": "text"
      },
      "source": [
        "<a href=\"https://colab.research.google.com/github/jafetimbre/optimus/blob/master/src/lab_2.ipynb\" target=\"_parent\"><img src=\"https://colab.research.google.com/assets/colab-badge.svg\" alt=\"Open In Colab\"/></a>"
      ]
    },
    {
      "cell_type": "markdown",
      "metadata": {
        "id": "coated-cemetery"
      },
      "source": [
        "# Generatoare de liste"
      ],
      "id": "coated-cemetery"
    },
    {
      "cell_type": "code",
      "metadata": {
        "id": "aware-cycle",
        "outputId": "c4dc8e14-14ad-413c-b1ef-2fee9174eef1"
      },
      "source": [
        "L = [x + y for x in 'abc' for y in 'lmnpq']\n",
        "print(f'Primul generator de lista: {L}')\n",
        "\n",
        "L = [x + y for (x, y) in zip('abc', 'lmnpq')]\n",
        "print(f'Al doilea generator de lista: {L}')"
      ],
      "id": "aware-cycle",
      "execution_count": null,
      "outputs": [
        {
          "output_type": "stream",
          "text": [
            "Primul generator de lista: ['al', 'am', 'an', 'ap', 'aq', 'bl', 'bm', 'bn', 'bp', 'bq', 'cl', 'cm', 'cn', 'cp', 'cq']\n",
            "Al doilea generator de lista: ['al', 'bm', 'cn']\n"
          ],
          "name": "stdout"
        }
      ]
    },
    {
      "cell_type": "code",
      "metadata": {
        "id": "recreational-duration",
        "outputId": "f61b5ada-b70f-4f57-df8d-fb30c8af092e"
      },
      "source": [
        "M = [ [1,2,3], [4,5,6], [7,8,9]]\n",
        "m = [ [col + 10 for col in row] for row in M]\n",
        "\n",
        "print(f'Prima expresie: {M}')\n",
        "print(f'A doua expresie: {m}')"
      ],
      "id": "recreational-duration",
      "execution_count": null,
      "outputs": [
        {
          "output_type": "stream",
          "text": [
            "Prima expresie: [[1, 2, 3], [4, 5, 6], [7, 8, 9]]\n",
            "A doua expresie: [[11, 12, 13], [14, 15, 16], [17, 18, 19]]\n"
          ],
          "name": "stdout"
        }
      ]
    },
    {
      "cell_type": "code",
      "metadata": {
        "id": "periodic-reunion",
        "outputId": "33851a73-c6e4-43f3-e0ab-98ceb0ff3b1d"
      },
      "source": [
        "R = range(5)\n",
        "print(type(R))\n",
        "L1, L2 = iter(R), iter(R)\n",
        "print([next(L1), next(L1), next(L1)])\n",
        "print([next(L2), next(L2)])"
      ],
      "id": "periodic-reunion",
      "execution_count": null,
      "outputs": [
        {
          "output_type": "stream",
          "text": [
            "<class 'range'>\n",
            "[0, 1, 2]\n",
            "[0, 1]\n"
          ],
          "name": "stdout"
        }
      ]
    },
    {
      "cell_type": "code",
      "metadata": {
        "id": "floppy-meditation",
        "outputId": "3ad7ea47-2c7a-40e4-abdf-4d7b14126a29"
      },
      "source": [
        "import timeit\n",
        "\n",
        "expr = '[abs(x) for x in range(1000)]\\nlist(abs(x) for x in range(1000))'\n",
        "\n",
        "print(timeit.timeit(expr, number = 10000))\n",
        "\n",
        "print(timeit.timeit('[abs(x) for x in range(1000)]', number = 10000))\n",
        "print(timeit.timeit('list(abs(x) for x in range(1000))', number = 10000))\n",
        "print(timeit.timeit('map(abs,range(1000))', number = 10000))\n",
        "print(timeit.timeit('list(map(abs,range(1000)))', number = 10000))"
      ],
      "id": "floppy-meditation",
      "execution_count": null,
      "outputs": [
        {
          "output_type": "stream",
          "text": [
            "2.6679140999999618\n",
            "0.9788963000000876\n",
            "1.2854178000000047\n",
            "0.0040117999999438325\n",
            "0.4548700000000281\n"
          ],
          "name": "stdout"
        }
      ]
    },
    {
      "cell_type": "markdown",
      "metadata": {
        "id": "identical-aquatic"
      },
      "source": [
        "# NumPy"
      ],
      "id": "identical-aquatic"
    },
    {
      "cell_type": "code",
      "metadata": {
        "id": "several-control"
      },
      "source": [
        "import numpy as np\n",
        "arr = np.random.normal(5, 0.5, size=(3, 3, 3))"
      ],
      "id": "several-control",
      "execution_count": null,
      "outputs": []
    },
    {
      "cell_type": "code",
      "metadata": {
        "id": "popular-chuck",
        "outputId": "d21f7010-2621-4a72-eb27-8999000835f9"
      },
      "source": [
        "arr = np.arange(1, 28).reshape(3,3,3)\n",
        "print(arr)"
      ],
      "id": "popular-chuck",
      "execution_count": null,
      "outputs": [
        {
          "output_type": "stream",
          "text": [
            "[[[ 1  2  3]\n",
            "  [ 4  5  6]\n",
            "  [ 7  8  9]]\n",
            "\n",
            " [[10 11 12]\n",
            "  [13 14 15]\n",
            "  [16 17 18]]\n",
            "\n",
            " [[19 20 21]\n",
            "  [22 23 24]\n",
            "  [25 26 27]]]\n"
          ],
          "name": "stdout"
        }
      ]
    },
    {
      "cell_type": "code",
      "metadata": {
        "id": "mechanical-plaintiff",
        "outputId": "7aaa6cb1-5bcd-4139-9d77-0f86d079f998"
      },
      "source": [
        "print([arr[x, :, :] for x in range(3)])\n",
        "print([arr[:, y, :] for y in range(3)])                                          \n",
        "print([arr[:, :, z] for z in range(3)])"
      ],
      "id": "mechanical-plaintiff",
      "execution_count": null,
      "outputs": [
        {
          "output_type": "stream",
          "text": [
            "[array([[1, 2, 3],\n",
            "       [4, 5, 6],\n",
            "       [7, 8, 9]]), array([[10, 11, 12],\n",
            "       [13, 14, 15],\n",
            "       [16, 17, 18]]), array([[19, 20, 21],\n",
            "       [22, 23, 24],\n",
            "       [25, 26, 27]])]\n",
            "[array([[ 1,  2,  3],\n",
            "       [10, 11, 12],\n",
            "       [19, 20, 21]]), array([[ 4,  5,  6],\n",
            "       [13, 14, 15],\n",
            "       [22, 23, 24]]), array([[ 7,  8,  9],\n",
            "       [16, 17, 18],\n",
            "       [25, 26, 27]])]\n",
            "[array([[ 1,  4,  7],\n",
            "       [10, 13, 16],\n",
            "       [19, 22, 25]]), array([[ 2,  5,  8],\n",
            "       [11, 14, 17],\n",
            "       [20, 23, 26]]), array([[ 3,  6,  9],\n",
            "       [12, 15, 18],\n",
            "       [21, 24, 27]])]\n"
          ],
          "name": "stdout"
        }
      ]
    },
    {
      "cell_type": "markdown",
      "metadata": {
        "id": "later-france"
      },
      "source": [
        "## 3"
      ],
      "id": "later-france"
    },
    {
      "cell_type": "code",
      "metadata": {
        "id": "cheap-amplifier",
        "outputId": "e2c02e8e-bfa1-4d03-8ee2-3e8f645f3274"
      },
      "source": [
        "mat = np.random.randint(10, size=(6,6))\n",
        "mat"
      ],
      "id": "cheap-amplifier",
      "execution_count": null,
      "outputs": [
        {
          "output_type": "execute_result",
          "data": {
            "text/plain": [
              "array([[0, 7, 3, 7, 4, 2],\n",
              "       [3, 6, 9, 1, 3, 8],\n",
              "       [6, 5, 4, 1, 2, 5],\n",
              "       [0, 3, 5, 6, 9, 9],\n",
              "       [9, 5, 5, 6, 7, 1],\n",
              "       [0, 2, 1, 1, 9, 8]])"
            ]
          },
          "metadata": {
            "tags": []
          },
          "execution_count": 45
        }
      ]
    },
    {
      "cell_type": "code",
      "metadata": {
        "id": "champion-colon"
      },
      "source": [
        "import random\n",
        "arr = np.array([random.random() for _ in range(10000)]) "
      ],
      "id": "champion-colon",
      "execution_count": null,
      "outputs": []
    }
  ]
}
