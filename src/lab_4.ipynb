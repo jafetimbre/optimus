{
  "nbformat": 4,
  "nbformat_minor": 0,
  "metadata": {
    "language_info": {
      "codemirror_mode": {
        "name": "ipython",
        "version": 3
      },
      "file_extension": ".py",
      "mimetype": "text/x-python",
      "name": "python",
      "nbconvert_exporter": "python",
      "pygments_lexer": "ipython3",
      "version": "3.8.6-final"
    },
    "orig_nbformat": 2,
    "kernelspec": {
      "name": "python3",
      "display_name": "Python 3.8.6 64-bit",
      "metadata": {
        "interpreter": {
          "hash": "122b684e0147009c315d6711cdbb4bc67c0b28d0ba10cdfcd148f2449410c391"
        }
      }
    },
    "colab": {
      "name": "lab_4.ipynb",
      "provenance": []
    }
  },
  "cells": [
    {
      "cell_type": "markdown",
      "metadata": {
        "id": "kUe8WwOZoZ5k"
      },
      "source": [
        "\r\n",
        "\r\n",
        "# Laboratorul 4\r\n",
        "---\r\n",
        "\r\n"
      ]
    },
    {
      "cell_type": "markdown",
      "metadata": {
        "id": "2mmHxrnipDB2"
      },
      "source": [
        "Importarea librariilor"
      ]
    },
    {
      "cell_type": "code",
      "metadata": {
        "id": "Esfp6RBHoJjM"
      },
      "source": [
        "import pandas_datareader.data as web\r\n",
        "import datetime\r\n",
        "import pandas as pd\r\n"
      ],
      "execution_count": 5,
      "outputs": []
    },
    {
      "cell_type": "code",
      "metadata": {
        "id": "nxGN1rXIpCHy",
        "outputId": "20896b5c-7a61-4630-89ea-03b4b0c6c94a",
        "colab": {
          "base_uri": "https://localhost:8080/"
        }
      },
      "source": [
        "dataset = pd.read_csv('https://raw.githubusercontent.com/wesm/pydata-book/2nd-edition/examples/tips.csv')\r\n",
        "print(dataset)"
      ],
      "execution_count": 16,
      "outputs": [
        {
          "output_type": "stream",
          "text": [
            "     total_bill   tip smoker   day    time  size\n",
            "0         16.99  1.01     No   Sun  Dinner     2\n",
            "1         10.34  1.66     No   Sun  Dinner     3\n",
            "2         21.01  3.50     No   Sun  Dinner     3\n",
            "3         23.68  3.31     No   Sun  Dinner     2\n",
            "4         24.59  3.61     No   Sun  Dinner     4\n",
            "..          ...   ...    ...   ...     ...   ...\n",
            "239       29.03  5.92     No   Sat  Dinner     3\n",
            "240       27.18  2.00    Yes   Sat  Dinner     2\n",
            "241       22.67  2.00    Yes   Sat  Dinner     2\n",
            "242       17.82  1.75     No   Sat  Dinner     2\n",
            "243       18.78  3.00     No  Thur  Dinner     2\n",
            "\n",
            "[244 rows x 6 columns]\n"
          ],
          "name": "stdout"
        }
      ]
    },
    {
      "cell_type": "code",
      "metadata": {
        "id": "NQy-HogNpwEv"
      },
      "source": [
        "s1 = pd.Series(dataset['total_bill'])\r\n",
        "s2 = pd.Series(dataset['tip'])"
      ],
      "execution_count": 22,
      "outputs": []
    },
    {
      "cell_type": "code",
      "metadata": {
        "id": "taw6bLpYq3cH",
        "outputId": "eac01839-9f76-4c49-e48d-b29febcdce54",
        "colab": {
          "base_uri": "https://localhost:8080/"
        }
      },
      "source": [
        "print(f'Analiza statistica pentru Seria 1 :\\n\\n{s1.describe()}')\r\n",
        "print(f'\\n\\nAnaliza statistica pentru Seria 2 :\\n\\n{s2.describe()}')"
      ],
      "execution_count": 29,
      "outputs": [
        {
          "output_type": "stream",
          "text": [
            "Analiza statistica pentru Seria 1 :\n",
            "\n",
            "count    244.000000\n",
            "mean      19.785943\n",
            "std        8.902412\n",
            "min        3.070000\n",
            "25%       13.347500\n",
            "50%       17.795000\n",
            "75%       24.127500\n",
            "max       50.810000\n",
            "Name: total_bill, dtype: float64\n",
            "\n",
            "\n",
            "Analiza statistica pentru Seria 2 :\n",
            "\n",
            "count    244.000000\n",
            "mean       2.998279\n",
            "std        1.383638\n",
            "min        1.000000\n",
            "25%        2.000000\n",
            "50%        2.900000\n",
            "75%        3.562500\n",
            "max       10.000000\n",
            "Name: tip, dtype: float64\n"
          ],
          "name": "stdout"
        }
      ]
    },
    {
      "cell_type": "code",
      "metadata": {
        "id": "hzhja5HprKWM"
      },
      "source": [
        "chunks = pd.read_csv(\"https://raw.githubusercontent.com/wesm/pydata-book/2nd-edition/examples/tips.csv\", chunksize=100)"
      ],
      "execution_count": 36,
      "outputs": []
    },
    {
      "cell_type": "code",
      "metadata": {
        "id": "BXdApuqVxzQJ",
        "outputId": "a9e0958e-f2b5-4609-d20d-ed0c9880ae27",
        "colab": {
          "base_uri": "https://localhost:8080/"
        }
      },
      "source": [
        "for i, c in enumerate(chunks):\r\n",
        "    print(f'Statistica pt partea {i} avand num el {len(c)} :\\n{c.describe()}\\n')"
      ],
      "execution_count": 37,
      "outputs": [
        {
          "output_type": "stream",
          "text": [
            "Statistica pt partea 0 avand num el 100 :\n",
            "       total_bill         tip        size\n",
            "count  100.000000  100.000000  100.000000\n",
            "mean    19.616700    3.059000    2.520000\n",
            "std      7.917297    1.287689    0.822413\n",
            "min      3.070000    1.000000    1.000000\n",
            "25%     14.817500    2.007500    2.000000\n",
            "50%     18.160000    3.000000    2.000000\n",
            "75%     22.990000    3.602500    3.000000\n",
            "max     48.270000    7.580000    4.000000\n",
            "\n",
            "Statistica pt partea 1 avand num el 100 :\n",
            "       total_bill         tip        size\n",
            "count  100.000000  100.000000  100.000000\n",
            "mean    19.994700    3.010800    2.620000\n",
            "std      9.838204    1.414453    1.098943\n",
            "min      7.250000    1.000000    1.000000\n",
            "25%     13.152500    2.000000    2.000000\n",
            "50%     17.285000    2.585000    2.000000\n",
            "75%     24.190000    3.820000    3.000000\n",
            "max     50.810000   10.000000    6.000000\n",
            "\n",
            "Statistica pt partea 2 avand num el 44 :\n",
            "       total_bill        tip       size\n",
            "count   44.000000  44.000000  44.000000\n",
            "mean    19.696136   2.831818   2.568182\n",
            "std      8.974092   1.535516   0.873318\n",
            "min      7.740000   1.000000   1.000000\n",
            "25%     12.865000   2.000000   2.000000\n",
            "50%     16.435000   2.500000   2.000000\n",
            "75%     26.065000   3.125000   3.000000\n",
            "max     48.330000   9.000000   5.000000\n",
            "\n"
          ],
          "name": "stdout"
        }
      ]
    },
    {
      "cell_type": "code",
      "metadata": {
        "id": "KH0aABDuyDpC",
        "outputId": "e0271a25-d104-48b7-8aa1-89d5793c0bab",
        "colab": {
          "base_uri": "https://localhost:8080/",
          "height": 235
        }
      },
      "source": [
        "dataset.groupby('day').agg({\"total_bill\": ['min', 'max', 'sum', 'mean', 'median', 'std', 'var']} )"
      ],
      "execution_count": 39,
      "outputs": [
        {
          "output_type": "execute_result",
          "data": {
            "text/html": [
              "<div>\n",
              "<style scoped>\n",
              "    .dataframe tbody tr th:only-of-type {\n",
              "        vertical-align: middle;\n",
              "    }\n",
              "\n",
              "    .dataframe tbody tr th {\n",
              "        vertical-align: top;\n",
              "    }\n",
              "\n",
              "    .dataframe thead tr th {\n",
              "        text-align: left;\n",
              "    }\n",
              "\n",
              "    .dataframe thead tr:last-of-type th {\n",
              "        text-align: right;\n",
              "    }\n",
              "</style>\n",
              "<table border=\"1\" class=\"dataframe\">\n",
              "  <thead>\n",
              "    <tr>\n",
              "      <th></th>\n",
              "      <th colspan=\"7\" halign=\"left\">total_bill</th>\n",
              "    </tr>\n",
              "    <tr>\n",
              "      <th></th>\n",
              "      <th>min</th>\n",
              "      <th>max</th>\n",
              "      <th>sum</th>\n",
              "      <th>mean</th>\n",
              "      <th>median</th>\n",
              "      <th>std</th>\n",
              "      <th>var</th>\n",
              "    </tr>\n",
              "    <tr>\n",
              "      <th>day</th>\n",
              "      <th></th>\n",
              "      <th></th>\n",
              "      <th></th>\n",
              "      <th></th>\n",
              "      <th></th>\n",
              "      <th></th>\n",
              "      <th></th>\n",
              "    </tr>\n",
              "  </thead>\n",
              "  <tbody>\n",
              "    <tr>\n",
              "      <th>Fri</th>\n",
              "      <td>5.75</td>\n",
              "      <td>40.17</td>\n",
              "      <td>325.88</td>\n",
              "      <td>17.151579</td>\n",
              "      <td>15.38</td>\n",
              "      <td>8.302660</td>\n",
              "      <td>68.934158</td>\n",
              "    </tr>\n",
              "    <tr>\n",
              "      <th>Sat</th>\n",
              "      <td>3.07</td>\n",
              "      <td>50.81</td>\n",
              "      <td>1778.40</td>\n",
              "      <td>20.441379</td>\n",
              "      <td>18.24</td>\n",
              "      <td>9.480419</td>\n",
              "      <td>89.878338</td>\n",
              "    </tr>\n",
              "    <tr>\n",
              "      <th>Sun</th>\n",
              "      <td>7.25</td>\n",
              "      <td>48.17</td>\n",
              "      <td>1627.16</td>\n",
              "      <td>21.410000</td>\n",
              "      <td>19.63</td>\n",
              "      <td>8.832122</td>\n",
              "      <td>78.006376</td>\n",
              "    </tr>\n",
              "    <tr>\n",
              "      <th>Thur</th>\n",
              "      <td>7.51</td>\n",
              "      <td>43.11</td>\n",
              "      <td>1096.33</td>\n",
              "      <td>17.682742</td>\n",
              "      <td>16.20</td>\n",
              "      <td>7.886170</td>\n",
              "      <td>62.191683</td>\n",
              "    </tr>\n",
              "  </tbody>\n",
              "</table>\n",
              "</div>"
            ],
            "text/plain": [
              "     total_bill                                                       \n",
              "            min    max      sum       mean median       std        var\n",
              "day                                                                   \n",
              "Fri        5.75  40.17   325.88  17.151579  15.38  8.302660  68.934158\n",
              "Sat        3.07  50.81  1778.40  20.441379  18.24  9.480419  89.878338\n",
              "Sun        7.25  48.17  1627.16  21.410000  19.63  8.832122  78.006376\n",
              "Thur       7.51  43.11  1096.33  17.682742  16.20  7.886170  62.191683"
            ]
          },
          "metadata": {
            "tags": []
          },
          "execution_count": 39
        }
      ]
    },
    {
      "cell_type": "code",
      "metadata": {
        "id": "jMzvQYGCzzXp",
        "outputId": "c4dece28-72af-43d2-a979-0954d9811206",
        "colab": {
          "base_uri": "https://localhost:8080/",
          "height": 225
        }
      },
      "source": [
        "dataset.groupby('day').agg({\"tip\": ['min', 'max', 'sum', 'mean', 'median', 'std', 'var']} )"
      ],
      "execution_count": 40,
      "outputs": [
        {
          "output_type": "execute_result",
          "data": {
            "text/html": [
              "<div>\n",
              "<style scoped>\n",
              "    .dataframe tbody tr th:only-of-type {\n",
              "        vertical-align: middle;\n",
              "    }\n",
              "\n",
              "    .dataframe tbody tr th {\n",
              "        vertical-align: top;\n",
              "    }\n",
              "\n",
              "    .dataframe thead tr th {\n",
              "        text-align: left;\n",
              "    }\n",
              "\n",
              "    .dataframe thead tr:last-of-type th {\n",
              "        text-align: right;\n",
              "    }\n",
              "</style>\n",
              "<table border=\"1\" class=\"dataframe\">\n",
              "  <thead>\n",
              "    <tr>\n",
              "      <th></th>\n",
              "      <th colspan=\"7\" halign=\"left\">tip</th>\n",
              "    </tr>\n",
              "    <tr>\n",
              "      <th></th>\n",
              "      <th>min</th>\n",
              "      <th>max</th>\n",
              "      <th>sum</th>\n",
              "      <th>mean</th>\n",
              "      <th>median</th>\n",
              "      <th>std</th>\n",
              "      <th>var</th>\n",
              "    </tr>\n",
              "    <tr>\n",
              "      <th>day</th>\n",
              "      <th></th>\n",
              "      <th></th>\n",
              "      <th></th>\n",
              "      <th></th>\n",
              "      <th></th>\n",
              "      <th></th>\n",
              "      <th></th>\n",
              "    </tr>\n",
              "  </thead>\n",
              "  <tbody>\n",
              "    <tr>\n",
              "      <th>Fri</th>\n",
              "      <td>1.00</td>\n",
              "      <td>4.73</td>\n",
              "      <td>51.96</td>\n",
              "      <td>2.734737</td>\n",
              "      <td>3.000</td>\n",
              "      <td>1.019577</td>\n",
              "      <td>1.039537</td>\n",
              "    </tr>\n",
              "    <tr>\n",
              "      <th>Sat</th>\n",
              "      <td>1.00</td>\n",
              "      <td>10.00</td>\n",
              "      <td>260.40</td>\n",
              "      <td>2.993103</td>\n",
              "      <td>2.750</td>\n",
              "      <td>1.631014</td>\n",
              "      <td>2.660208</td>\n",
              "    </tr>\n",
              "    <tr>\n",
              "      <th>Sun</th>\n",
              "      <td>1.01</td>\n",
              "      <td>6.50</td>\n",
              "      <td>247.39</td>\n",
              "      <td>3.255132</td>\n",
              "      <td>3.150</td>\n",
              "      <td>1.234880</td>\n",
              "      <td>1.524929</td>\n",
              "    </tr>\n",
              "    <tr>\n",
              "      <th>Thur</th>\n",
              "      <td>1.25</td>\n",
              "      <td>6.70</td>\n",
              "      <td>171.83</td>\n",
              "      <td>2.771452</td>\n",
              "      <td>2.305</td>\n",
              "      <td>1.240223</td>\n",
              "      <td>1.538154</td>\n",
              "    </tr>\n",
              "  </tbody>\n",
              "</table>\n",
              "</div>"
            ],
            "text/plain": [
              "       tip                                                    \n",
              "       min    max     sum      mean median       std       var\n",
              "day                                                           \n",
              "Fri   1.00   4.73   51.96  2.734737  3.000  1.019577  1.039537\n",
              "Sat   1.00  10.00  260.40  2.993103  2.750  1.631014  2.660208\n",
              "Sun   1.01   6.50  247.39  3.255132  3.150  1.234880  1.524929\n",
              "Thur  1.25   6.70  171.83  2.771452  2.305  1.240223  1.538154"
            ]
          },
          "metadata": {
            "tags": []
          },
          "execution_count": 40
        }
      ]
    },
    {
      "cell_type": "code",
      "metadata": {
        "id": "QXGYSXfoz8L4",
        "outputId": "9170552b-e5e9-4fa9-ae98-34b705e431e3",
        "colab": {
          "base_uri": "https://localhost:8080/",
          "height": 225
        }
      },
      "source": [
        "dataset.loc[dataset['size'] == 3].groupby('day').agg( {\"total_bill\": ['min', 'max']} )"
      ],
      "execution_count": 45,
      "outputs": [
        {
          "output_type": "execute_result",
          "data": {
            "text/html": [
              "<div>\n",
              "<style scoped>\n",
              "    .dataframe tbody tr th:only-of-type {\n",
              "        vertical-align: middle;\n",
              "    }\n",
              "\n",
              "    .dataframe tbody tr th {\n",
              "        vertical-align: top;\n",
              "    }\n",
              "\n",
              "    .dataframe thead tr th {\n",
              "        text-align: left;\n",
              "    }\n",
              "\n",
              "    .dataframe thead tr:last-of-type th {\n",
              "        text-align: right;\n",
              "    }\n",
              "</style>\n",
              "<table border=\"1\" class=\"dataframe\">\n",
              "  <thead>\n",
              "    <tr>\n",
              "      <th></th>\n",
              "      <th colspan=\"2\" halign=\"left\">total_bill</th>\n",
              "    </tr>\n",
              "    <tr>\n",
              "      <th></th>\n",
              "      <th>min</th>\n",
              "      <th>max</th>\n",
              "    </tr>\n",
              "    <tr>\n",
              "      <th>day</th>\n",
              "      <th></th>\n",
              "      <th></th>\n",
              "    </tr>\n",
              "  </thead>\n",
              "  <tbody>\n",
              "    <tr>\n",
              "      <th>Fri</th>\n",
              "      <td>15.98</td>\n",
              "      <td>15.98</td>\n",
              "    </tr>\n",
              "    <tr>\n",
              "      <th>Sat</th>\n",
              "      <td>15.69</td>\n",
              "      <td>50.81</td>\n",
              "    </tr>\n",
              "    <tr>\n",
              "      <th>Sun</th>\n",
              "      <td>10.33</td>\n",
              "      <td>45.35</td>\n",
              "    </tr>\n",
              "    <tr>\n",
              "      <th>Thur</th>\n",
              "      <td>16.47</td>\n",
              "      <td>22.82</td>\n",
              "    </tr>\n",
              "  </tbody>\n",
              "</table>\n",
              "</div>"
            ],
            "text/plain": [
              "     total_bill       \n",
              "            min    max\n",
              "day                   \n",
              "Fri       15.98  15.98\n",
              "Sat       15.69  50.81\n",
              "Sun       10.33  45.35\n",
              "Thur      16.47  22.82"
            ]
          },
          "metadata": {
            "tags": []
          },
          "execution_count": 45
        }
      ]
    },
    {
      "cell_type": "code",
      "metadata": {
        "id": "SdOUgUDJ3etd"
      },
      "source": [
        "dataset"
      ],
      "execution_count": null,
      "outputs": []
    },
    {
      "cell_type": "code",
      "metadata": {
        "id": "JavsuBx6Awg7",
        "outputId": "d9126770-cb8f-4380-ca0c-98eb610701e2",
        "colab": {
          "base_uri": "https://localhost:8080/",
          "height": 225
        }
      },
      "source": [
        "std_day = dataset.groupby('day').agg( {\"tip\": ['std', 'mean']} )\r\n",
        "std_day"
      ],
      "execution_count": 149,
      "outputs": [
        {
          "output_type": "execute_result",
          "data": {
            "text/html": [
              "<div>\n",
              "<style scoped>\n",
              "    .dataframe tbody tr th:only-of-type {\n",
              "        vertical-align: middle;\n",
              "    }\n",
              "\n",
              "    .dataframe tbody tr th {\n",
              "        vertical-align: top;\n",
              "    }\n",
              "\n",
              "    .dataframe thead tr th {\n",
              "        text-align: left;\n",
              "    }\n",
              "\n",
              "    .dataframe thead tr:last-of-type th {\n",
              "        text-align: right;\n",
              "    }\n",
              "</style>\n",
              "<table border=\"1\" class=\"dataframe\">\n",
              "  <thead>\n",
              "    <tr>\n",
              "      <th></th>\n",
              "      <th colspan=\"2\" halign=\"left\">tip</th>\n",
              "    </tr>\n",
              "    <tr>\n",
              "      <th></th>\n",
              "      <th>std</th>\n",
              "      <th>mean</th>\n",
              "    </tr>\n",
              "    <tr>\n",
              "      <th>day</th>\n",
              "      <th></th>\n",
              "      <th></th>\n",
              "    </tr>\n",
              "  </thead>\n",
              "  <tbody>\n",
              "    <tr>\n",
              "      <th>Fri</th>\n",
              "      <td>1.019577</td>\n",
              "      <td>2.734737</td>\n",
              "    </tr>\n",
              "    <tr>\n",
              "      <th>Sat</th>\n",
              "      <td>1.631014</td>\n",
              "      <td>2.993103</td>\n",
              "    </tr>\n",
              "    <tr>\n",
              "      <th>Sun</th>\n",
              "      <td>1.234880</td>\n",
              "      <td>3.255132</td>\n",
              "    </tr>\n",
              "    <tr>\n",
              "      <th>Thur</th>\n",
              "      <td>1.240223</td>\n",
              "      <td>2.771452</td>\n",
              "    </tr>\n",
              "  </tbody>\n",
              "</table>\n",
              "</div>"
            ],
            "text/plain": [
              "           tip          \n",
              "           std      mean\n",
              "day                     \n",
              "Fri   1.019577  2.734737\n",
              "Sat   1.631014  2.993103\n",
              "Sun   1.234880  3.255132\n",
              "Thur  1.240223  2.771452"
            ]
          },
          "metadata": {
            "tags": []
          },
          "execution_count": 149
        }
      ]
    },
    {
      "cell_type": "code",
      "metadata": {
        "id": "3D8ZdU0Y1GUq",
        "outputId": "b7041123-31d5-4b5c-f32b-6a89958fdd46",
        "colab": {
          "base_uri": "https://localhost:8080/"
        }
      },
      "source": [
        "std_day = dataset.groupby('day').agg( {\"tip\": ['std', 'mean']} )\r\n",
        "\r\n",
        "for r in std_day.iterrows():\r\n",
        "    ziua = r[0]\r\n",
        "    media = r[1].values[1]\r\n",
        "    dev = r[1].values[0]\r\n",
        "\r\n",
        "    print(f\"{ziua} -> {dataset.loc[dataset['day'] == ziua].tip.apply(lambda x: x > media + dev).agg([sum]).values[0]}\")"
      ],
      "execution_count": 150,
      "outputs": [
        {
          "output_type": "stream",
          "text": [
            "Fri -> 3\n",
            "Sat -> 10\n",
            "Sun -> 14\n",
            "Thur -> 9\n"
          ],
          "name": "stdout"
        }
      ]
    },
    {
      "cell_type": "code",
      "metadata": {
        "id": "IwJ3dNJ178z4",
        "outputId": "8f1143cc-191f-4af6-fcc8-a8687dcde9a3",
        "colab": {
          "base_uri": "https://localhost:8080/",
          "height": 402
        }
      },
      "source": [
        ""
      ],
      "execution_count": 173,
      "outputs": [
        {
          "output_type": "execute_result",
          "data": {
            "text/html": [
              "<div>\n",
              "<style scoped>\n",
              "    .dataframe tbody tr th:only-of-type {\n",
              "        vertical-align: middle;\n",
              "    }\n",
              "\n",
              "    .dataframe tbody tr th {\n",
              "        vertical-align: top;\n",
              "    }\n",
              "\n",
              "    .dataframe thead th {\n",
              "        text-align: right;\n",
              "    }\n",
              "</style>\n",
              "<table border=\"1\" class=\"dataframe\">\n",
              "  <thead>\n",
              "    <tr style=\"text-align: right;\">\n",
              "      <th></th>\n",
              "      <th>year</th>\n",
              "      <th>month</th>\n",
              "      <th>day</th>\n",
              "      <th>gender</th>\n",
              "      <th>births</th>\n",
              "    </tr>\n",
              "  </thead>\n",
              "  <tbody>\n",
              "    <tr>\n",
              "      <th>0</th>\n",
              "      <td>1969</td>\n",
              "      <td>1</td>\n",
              "      <td>1.0</td>\n",
              "      <td>F</td>\n",
              "      <td>4046</td>\n",
              "    </tr>\n",
              "    <tr>\n",
              "      <th>1</th>\n",
              "      <td>1969</td>\n",
              "      <td>1</td>\n",
              "      <td>1.0</td>\n",
              "      <td>M</td>\n",
              "      <td>4440</td>\n",
              "    </tr>\n",
              "    <tr>\n",
              "      <th>2</th>\n",
              "      <td>1969</td>\n",
              "      <td>1</td>\n",
              "      <td>2.0</td>\n",
              "      <td>F</td>\n",
              "      <td>4454</td>\n",
              "    </tr>\n",
              "    <tr>\n",
              "      <th>3</th>\n",
              "      <td>1969</td>\n",
              "      <td>1</td>\n",
              "      <td>2.0</td>\n",
              "      <td>M</td>\n",
              "      <td>4548</td>\n",
              "    </tr>\n",
              "    <tr>\n",
              "      <th>4</th>\n",
              "      <td>1969</td>\n",
              "      <td>1</td>\n",
              "      <td>3.0</td>\n",
              "      <td>F</td>\n",
              "      <td>4548</td>\n",
              "    </tr>\n",
              "    <tr>\n",
              "      <th>...</th>\n",
              "      <td>...</td>\n",
              "      <td>...</td>\n",
              "      <td>...</td>\n",
              "      <td>...</td>\n",
              "      <td>...</td>\n",
              "    </tr>\n",
              "    <tr>\n",
              "      <th>15542</th>\n",
              "      <td>2008</td>\n",
              "      <td>10</td>\n",
              "      <td>NaN</td>\n",
              "      <td>M</td>\n",
              "      <td>183219</td>\n",
              "    </tr>\n",
              "    <tr>\n",
              "      <th>15543</th>\n",
              "      <td>2008</td>\n",
              "      <td>11</td>\n",
              "      <td>NaN</td>\n",
              "      <td>F</td>\n",
              "      <td>158939</td>\n",
              "    </tr>\n",
              "    <tr>\n",
              "      <th>15544</th>\n",
              "      <td>2008</td>\n",
              "      <td>11</td>\n",
              "      <td>NaN</td>\n",
              "      <td>M</td>\n",
              "      <td>165468</td>\n",
              "    </tr>\n",
              "    <tr>\n",
              "      <th>15545</th>\n",
              "      <td>2008</td>\n",
              "      <td>12</td>\n",
              "      <td>NaN</td>\n",
              "      <td>F</td>\n",
              "      <td>173215</td>\n",
              "    </tr>\n",
              "    <tr>\n",
              "      <th>15546</th>\n",
              "      <td>2008</td>\n",
              "      <td>12</td>\n",
              "      <td>NaN</td>\n",
              "      <td>M</td>\n",
              "      <td>181235</td>\n",
              "    </tr>\n",
              "  </tbody>\n",
              "</table>\n",
              "<p>15547 rows × 5 columns</p>\n",
              "</div>"
            ],
            "text/plain": [
              "       year  month  day gender  births\n",
              "0      1969      1  1.0      F    4046\n",
              "1      1969      1  1.0      M    4440\n",
              "2      1969      1  2.0      F    4454\n",
              "3      1969      1  2.0      M    4548\n",
              "4      1969      1  3.0      F    4548\n",
              "...     ...    ...  ...    ...     ...\n",
              "15542  2008     10  NaN      M  183219\n",
              "15543  2008     11  NaN      F  158939\n",
              "15544  2008     11  NaN      M  165468\n",
              "15545  2008     12  NaN      F  173215\n",
              "15546  2008     12  NaN      M  181235\n",
              "\n",
              "[15547 rows x 5 columns]"
            ]
          },
          "metadata": {
            "tags": []
          },
          "execution_count": 173
        }
      ]
    },
    {
      "cell_type": "code",
      "metadata": {
        "id": "IKJK-excC2hC",
        "outputId": "0a349810-fe27-40ab-9f89-39d8bc8b7c47",
        "colab": {
          "base_uri": "https://localhost:8080/",
          "height": 402
        }
      },
      "source": [
        "data = pd.read_csv('https://raw.githubusercontent.com/jakevdp/data-CDCbirths/master/births.csv')\r\n",
        "\r\n",
        "months_str = [ m[:3] for m in [ 'January', 'February', 'March', 'April', 'May', 'June', 'July', 'August', 'September', 'October', 'November', 'December'] ]\r\n",
        "data.month = data.month.apply(lambda x: months_str[x-1])\r\n",
        "\r\n",
        "data"
      ],
      "execution_count": 192,
      "outputs": [
        {
          "output_type": "execute_result",
          "data": {
            "text/html": [
              "<div>\n",
              "<style scoped>\n",
              "    .dataframe tbody tr th:only-of-type {\n",
              "        vertical-align: middle;\n",
              "    }\n",
              "\n",
              "    .dataframe tbody tr th {\n",
              "        vertical-align: top;\n",
              "    }\n",
              "\n",
              "    .dataframe thead th {\n",
              "        text-align: right;\n",
              "    }\n",
              "</style>\n",
              "<table border=\"1\" class=\"dataframe\">\n",
              "  <thead>\n",
              "    <tr style=\"text-align: right;\">\n",
              "      <th></th>\n",
              "      <th>year</th>\n",
              "      <th>month</th>\n",
              "      <th>day</th>\n",
              "      <th>gender</th>\n",
              "      <th>births</th>\n",
              "    </tr>\n",
              "  </thead>\n",
              "  <tbody>\n",
              "    <tr>\n",
              "      <th>0</th>\n",
              "      <td>1969</td>\n",
              "      <td>Jan</td>\n",
              "      <td>1.0</td>\n",
              "      <td>F</td>\n",
              "      <td>4046</td>\n",
              "    </tr>\n",
              "    <tr>\n",
              "      <th>1</th>\n",
              "      <td>1969</td>\n",
              "      <td>Jan</td>\n",
              "      <td>1.0</td>\n",
              "      <td>M</td>\n",
              "      <td>4440</td>\n",
              "    </tr>\n",
              "    <tr>\n",
              "      <th>2</th>\n",
              "      <td>1969</td>\n",
              "      <td>Jan</td>\n",
              "      <td>2.0</td>\n",
              "      <td>F</td>\n",
              "      <td>4454</td>\n",
              "    </tr>\n",
              "    <tr>\n",
              "      <th>3</th>\n",
              "      <td>1969</td>\n",
              "      <td>Jan</td>\n",
              "      <td>2.0</td>\n",
              "      <td>M</td>\n",
              "      <td>4548</td>\n",
              "    </tr>\n",
              "    <tr>\n",
              "      <th>4</th>\n",
              "      <td>1969</td>\n",
              "      <td>Jan</td>\n",
              "      <td>3.0</td>\n",
              "      <td>F</td>\n",
              "      <td>4548</td>\n",
              "    </tr>\n",
              "    <tr>\n",
              "      <th>...</th>\n",
              "      <td>...</td>\n",
              "      <td>...</td>\n",
              "      <td>...</td>\n",
              "      <td>...</td>\n",
              "      <td>...</td>\n",
              "    </tr>\n",
              "    <tr>\n",
              "      <th>15542</th>\n",
              "      <td>2008</td>\n",
              "      <td>Oct</td>\n",
              "      <td>NaN</td>\n",
              "      <td>M</td>\n",
              "      <td>183219</td>\n",
              "    </tr>\n",
              "    <tr>\n",
              "      <th>15543</th>\n",
              "      <td>2008</td>\n",
              "      <td>Nov</td>\n",
              "      <td>NaN</td>\n",
              "      <td>F</td>\n",
              "      <td>158939</td>\n",
              "    </tr>\n",
              "    <tr>\n",
              "      <th>15544</th>\n",
              "      <td>2008</td>\n",
              "      <td>Nov</td>\n",
              "      <td>NaN</td>\n",
              "      <td>M</td>\n",
              "      <td>165468</td>\n",
              "    </tr>\n",
              "    <tr>\n",
              "      <th>15545</th>\n",
              "      <td>2008</td>\n",
              "      <td>Dec</td>\n",
              "      <td>NaN</td>\n",
              "      <td>F</td>\n",
              "      <td>173215</td>\n",
              "    </tr>\n",
              "    <tr>\n",
              "      <th>15546</th>\n",
              "      <td>2008</td>\n",
              "      <td>Dec</td>\n",
              "      <td>NaN</td>\n",
              "      <td>M</td>\n",
              "      <td>181235</td>\n",
              "    </tr>\n",
              "  </tbody>\n",
              "</table>\n",
              "<p>15547 rows × 5 columns</p>\n",
              "</div>"
            ],
            "text/plain": [
              "       year month  day gender  births\n",
              "0      1969   Jan  1.0      F    4046\n",
              "1      1969   Jan  1.0      M    4440\n",
              "2      1969   Jan  2.0      F    4454\n",
              "3      1969   Jan  2.0      M    4548\n",
              "4      1969   Jan  3.0      F    4548\n",
              "...     ...   ...  ...    ...     ...\n",
              "15542  2008   Oct  NaN      M  183219\n",
              "15543  2008   Nov  NaN      F  158939\n",
              "15544  2008   Nov  NaN      M  165468\n",
              "15545  2008   Dec  NaN      F  173215\n",
              "15546  2008   Dec  NaN      M  181235\n",
              "\n",
              "[15547 rows x 5 columns]"
            ]
          },
          "metadata": {
            "tags": []
          },
          "execution_count": 192
        }
      ]
    },
    {
      "cell_type": "code",
      "metadata": {
        "id": "LcbdDT-ZELZu",
        "outputId": "9fb8cfa5-d575-41c9-df10-7b74053723c2",
        "colab": {
          "base_uri": "https://localhost:8080/",
          "height": 402
        }
      },
      "source": [
        "data"
      ],
      "execution_count": 176,
      "outputs": [
        {
          "output_type": "execute_result",
          "data": {
            "text/html": [
              "<div>\n",
              "<style scoped>\n",
              "    .dataframe tbody tr th:only-of-type {\n",
              "        vertical-align: middle;\n",
              "    }\n",
              "\n",
              "    .dataframe tbody tr th {\n",
              "        vertical-align: top;\n",
              "    }\n",
              "\n",
              "    .dataframe thead th {\n",
              "        text-align: right;\n",
              "    }\n",
              "</style>\n",
              "<table border=\"1\" class=\"dataframe\">\n",
              "  <thead>\n",
              "    <tr style=\"text-align: right;\">\n",
              "      <th></th>\n",
              "      <th>year</th>\n",
              "      <th>month</th>\n",
              "      <th>day</th>\n",
              "      <th>gender</th>\n",
              "      <th>births</th>\n",
              "    </tr>\n",
              "  </thead>\n",
              "  <tbody>\n",
              "    <tr>\n",
              "      <th>0</th>\n",
              "      <td>1969</td>\n",
              "      <td>Jan</td>\n",
              "      <td>1.0</td>\n",
              "      <td>F</td>\n",
              "      <td>4046</td>\n",
              "    </tr>\n",
              "    <tr>\n",
              "      <th>1</th>\n",
              "      <td>1969</td>\n",
              "      <td>Jan</td>\n",
              "      <td>1.0</td>\n",
              "      <td>M</td>\n",
              "      <td>4440</td>\n",
              "    </tr>\n",
              "    <tr>\n",
              "      <th>2</th>\n",
              "      <td>1969</td>\n",
              "      <td>Jan</td>\n",
              "      <td>2.0</td>\n",
              "      <td>F</td>\n",
              "      <td>4454</td>\n",
              "    </tr>\n",
              "    <tr>\n",
              "      <th>3</th>\n",
              "      <td>1969</td>\n",
              "      <td>Jan</td>\n",
              "      <td>2.0</td>\n",
              "      <td>M</td>\n",
              "      <td>4548</td>\n",
              "    </tr>\n",
              "    <tr>\n",
              "      <th>4</th>\n",
              "      <td>1969</td>\n",
              "      <td>Jan</td>\n",
              "      <td>3.0</td>\n",
              "      <td>F</td>\n",
              "      <td>4548</td>\n",
              "    </tr>\n",
              "    <tr>\n",
              "      <th>...</th>\n",
              "      <td>...</td>\n",
              "      <td>...</td>\n",
              "      <td>...</td>\n",
              "      <td>...</td>\n",
              "      <td>...</td>\n",
              "    </tr>\n",
              "    <tr>\n",
              "      <th>15542</th>\n",
              "      <td>2008</td>\n",
              "      <td>Oct</td>\n",
              "      <td>NaN</td>\n",
              "      <td>M</td>\n",
              "      <td>183219</td>\n",
              "    </tr>\n",
              "    <tr>\n",
              "      <th>15543</th>\n",
              "      <td>2008</td>\n",
              "      <td>Nov</td>\n",
              "      <td>NaN</td>\n",
              "      <td>F</td>\n",
              "      <td>158939</td>\n",
              "    </tr>\n",
              "    <tr>\n",
              "      <th>15544</th>\n",
              "      <td>2008</td>\n",
              "      <td>Nov</td>\n",
              "      <td>NaN</td>\n",
              "      <td>M</td>\n",
              "      <td>165468</td>\n",
              "    </tr>\n",
              "    <tr>\n",
              "      <th>15545</th>\n",
              "      <td>2008</td>\n",
              "      <td>Dec</td>\n",
              "      <td>NaN</td>\n",
              "      <td>F</td>\n",
              "      <td>173215</td>\n",
              "    </tr>\n",
              "    <tr>\n",
              "      <th>15546</th>\n",
              "      <td>2008</td>\n",
              "      <td>Dec</td>\n",
              "      <td>NaN</td>\n",
              "      <td>M</td>\n",
              "      <td>181235</td>\n",
              "    </tr>\n",
              "  </tbody>\n",
              "</table>\n",
              "<p>15547 rows × 5 columns</p>\n",
              "</div>"
            ],
            "text/plain": [
              "       year month  day gender  births\n",
              "0      1969   Jan  1.0      F    4046\n",
              "1      1969   Jan  1.0      M    4440\n",
              "2      1969   Jan  2.0      F    4454\n",
              "3      1969   Jan  2.0      M    4548\n",
              "4      1969   Jan  3.0      F    4548\n",
              "...     ...   ...  ...    ...     ...\n",
              "15542  2008   Oct  NaN      M  183219\n",
              "15543  2008   Nov  NaN      F  158939\n",
              "15544  2008   Nov  NaN      M  165468\n",
              "15545  2008   Dec  NaN      F  173215\n",
              "15546  2008   Dec  NaN      M  181235\n",
              "\n",
              "[15547 rows x 5 columns]"
            ]
          },
          "metadata": {
            "tags": []
          },
          "execution_count": 176
        }
      ]
    },
    {
      "cell_type": "code",
      "metadata": {
        "id": "RbIFjOmxB6dc",
        "outputId": "9f23435a-1ff3-4ed4-fdc1-4e31b77144cd",
        "colab": {
          "base_uri": "https://localhost:8080/",
          "height": 77
        }
      },
      "source": [
        "pivot_sum = data.pivot_table('births', columns='month', aggfunc='sum')\r\n",
        "pivot_sum"
      ],
      "execution_count": 183,
      "outputs": [
        {
          "output_type": "execute_result",
          "data": {
            "text/html": [
              "<div>\n",
              "<style scoped>\n",
              "    .dataframe tbody tr th:only-of-type {\n",
              "        vertical-align: middle;\n",
              "    }\n",
              "\n",
              "    .dataframe tbody tr th {\n",
              "        vertical-align: top;\n",
              "    }\n",
              "\n",
              "    .dataframe thead th {\n",
              "        text-align: right;\n",
              "    }\n",
              "</style>\n",
              "<table border=\"1\" class=\"dataframe\">\n",
              "  <thead>\n",
              "    <tr style=\"text-align: right;\">\n",
              "      <th>month</th>\n",
              "      <th>Apr</th>\n",
              "      <th>Aug</th>\n",
              "      <th>Dec</th>\n",
              "      <th>Feb</th>\n",
              "      <th>Jan</th>\n",
              "      <th>Jul</th>\n",
              "      <th>Jun</th>\n",
              "      <th>Mar</th>\n",
              "      <th>May</th>\n",
              "      <th>Nov</th>\n",
              "      <th>Oct</th>\n",
              "      <th>Sep</th>\n",
              "    </tr>\n",
              "  </thead>\n",
              "  <tbody>\n",
              "    <tr>\n",
              "      <th>births</th>\n",
              "      <td>12085891</td>\n",
              "      <td>13528007</td>\n",
              "      <td>12656915</td>\n",
              "      <td>11541178</td>\n",
              "      <td>12364197</td>\n",
              "      <td>13367556</td>\n",
              "      <td>12521070</td>\n",
              "      <td>12678844</td>\n",
              "      <td>12624972</td>\n",
              "      <td>12197967</td>\n",
              "      <td>12954950</td>\n",
              "      <td>13252831</td>\n",
              "    </tr>\n",
              "  </tbody>\n",
              "</table>\n",
              "</div>"
            ],
            "text/plain": [
              "month        Apr       Aug       Dec  ...       Nov       Oct       Sep\n",
              "births  12085891  13528007  12656915  ...  12197967  12954950  13252831\n",
              "\n",
              "[1 rows x 12 columns]"
            ]
          },
          "metadata": {
            "tags": []
          },
          "execution_count": 183
        }
      ]
    },
    {
      "cell_type": "code",
      "metadata": {
        "id": "cDYuMBO9Ce9m",
        "outputId": "1e0cad8e-d894-4b79-e9a2-014b012dec93",
        "colab": {
          "base_uri": "https://localhost:8080/",
          "height": 77
        }
      },
      "source": [
        "pivot_mean = data.pivot_table('births', columns='month', aggfunc='mean')\r\n",
        "pivot_mean"
      ],
      "execution_count": 178,
      "outputs": [
        {
          "output_type": "execute_result",
          "data": {
            "text/html": [
              "<div>\n",
              "<style scoped>\n",
              "    .dataframe tbody tr th:only-of-type {\n",
              "        vertical-align: middle;\n",
              "    }\n",
              "\n",
              "    .dataframe tbody tr th {\n",
              "        vertical-align: top;\n",
              "    }\n",
              "\n",
              "    .dataframe thead th {\n",
              "        text-align: right;\n",
              "    }\n",
              "</style>\n",
              "<table border=\"1\" class=\"dataframe\">\n",
              "  <thead>\n",
              "    <tr style=\"text-align: right;\">\n",
              "      <th>month</th>\n",
              "      <th>Apr</th>\n",
              "      <th>Aug</th>\n",
              "      <th>Dec</th>\n",
              "      <th>Feb</th>\n",
              "      <th>Jan</th>\n",
              "      <th>Jul</th>\n",
              "      <th>Jun</th>\n",
              "      <th>Mar</th>\n",
              "      <th>May</th>\n",
              "      <th>Nov</th>\n",
              "      <th>Oct</th>\n",
              "      <th>Sep</th>\n",
              "    </tr>\n",
              "  </thead>\n",
              "  <tbody>\n",
              "    <tr>\n",
              "      <th>births</th>\n",
              "      <td>9390.746698</td>\n",
              "      <td>10334.611917</td>\n",
              "      <td>9676.54052</td>\n",
              "      <td>9307.401613</td>\n",
              "      <td>9467.225881</td>\n",
              "      <td>10219.844037</td>\n",
              "      <td>9721.32764</td>\n",
              "      <td>9678.50687</td>\n",
              "      <td>9674.308046</td>\n",
              "      <td>9455.788372</td>\n",
              "      <td>9904.396024</td>\n",
              "      <td>10289.465062</td>\n",
              "    </tr>\n",
              "  </tbody>\n",
              "</table>\n",
              "</div>"
            ],
            "text/plain": [
              "month           Apr           Aug  ...          Oct           Sep\n",
              "births  9390.746698  10334.611917  ...  9904.396024  10289.465062\n",
              "\n",
              "[1 rows x 12 columns]"
            ]
          },
          "metadata": {
            "tags": []
          },
          "execution_count": 178
        }
      ]
    },
    {
      "cell_type": "code",
      "metadata": {
        "id": "Qbb-cvpwEsQA",
        "outputId": "7bc21f46-9016-4644-86a1-100e9c61eb90",
        "colab": {
          "base_uri": "https://localhost:8080/",
          "height": 97
        }
      },
      "source": [
        "pivot_zile = data.pivot_table('births', columns='day', aggfunc='sum')\r\n",
        "pivot_zile"
      ],
      "execution_count": 188,
      "outputs": [
        {
          "output_type": "execute_result",
          "data": {
            "text/html": [
              "<div>\n",
              "<style scoped>\n",
              "    .dataframe tbody tr th:only-of-type {\n",
              "        vertical-align: middle;\n",
              "    }\n",
              "\n",
              "    .dataframe tbody tr th {\n",
              "        vertical-align: top;\n",
              "    }\n",
              "\n",
              "    .dataframe thead th {\n",
              "        text-align: right;\n",
              "    }\n",
              "</style>\n",
              "<table border=\"1\" class=\"dataframe\">\n",
              "  <thead>\n",
              "    <tr style=\"text-align: right;\">\n",
              "      <th>day</th>\n",
              "      <th>1.0</th>\n",
              "      <th>2.0</th>\n",
              "      <th>3.0</th>\n",
              "      <th>4.0</th>\n",
              "      <th>5.0</th>\n",
              "      <th>6.0</th>\n",
              "      <th>7.0</th>\n",
              "      <th>8.0</th>\n",
              "      <th>9.0</th>\n",
              "      <th>10.0</th>\n",
              "      <th>11.0</th>\n",
              "      <th>12.0</th>\n",
              "      <th>13.0</th>\n",
              "      <th>14.0</th>\n",
              "      <th>15.0</th>\n",
              "      <th>16.0</th>\n",
              "      <th>17.0</th>\n",
              "      <th>18.0</th>\n",
              "      <th>19.0</th>\n",
              "      <th>20.0</th>\n",
              "      <th>21.0</th>\n",
              "      <th>22.0</th>\n",
              "      <th>23.0</th>\n",
              "      <th>24.0</th>\n",
              "      <th>25.0</th>\n",
              "      <th>26.0</th>\n",
              "      <th>27.0</th>\n",
              "      <th>28.0</th>\n",
              "      <th>29.0</th>\n",
              "      <th>30.0</th>\n",
              "      <th>31.0</th>\n",
              "      <th>99.0</th>\n",
              "    </tr>\n",
              "  </thead>\n",
              "  <tbody>\n",
              "    <tr>\n",
              "      <th>births</th>\n",
              "      <td>2286854</td>\n",
              "      <td>2303168</td>\n",
              "      <td>2309087</td>\n",
              "      <td>2286588</td>\n",
              "      <td>2296951</td>\n",
              "      <td>2308073</td>\n",
              "      <td>2314081</td>\n",
              "      <td>2322376</td>\n",
              "      <td>2315055</td>\n",
              "      <td>2327197</td>\n",
              "      <td>2319561</td>\n",
              "      <td>2322956</td>\n",
              "      <td>2290896</td>\n",
              "      <td>2335551</td>\n",
              "      <td>2333426</td>\n",
              "      <td>2332456</td>\n",
              "      <td>2335458</td>\n",
              "      <td>2334949</td>\n",
              "      <td>2331183</td>\n",
              "      <td>2337631</td>\n",
              "      <td>2329563</td>\n",
              "      <td>2317711</td>\n",
              "      <td>2305174</td>\n",
              "      <td>2290500</td>\n",
              "      <td>2283975</td>\n",
              "      <td>2300208</td>\n",
              "      <td>2314088</td>\n",
              "      <td>2328630</td>\n",
              "      <td>2189278</td>\n",
              "      <td>2141788</td>\n",
              "      <td>1342126</td>\n",
              "      <td>6403</td>\n",
              "    </tr>\n",
              "  </tbody>\n",
              "</table>\n",
              "</div>"
            ],
            "text/plain": [
              "day        1.0      2.0      3.0      4.0   ...     29.0     30.0     31.0  99.0\n",
              "births  2286854  2303168  2309087  2286588  ...  2189278  2141788  1342126  6403\n",
              "\n",
              "[1 rows x 32 columns]"
            ]
          },
          "metadata": {
            "tags": []
          },
          "execution_count": 188
        }
      ]
    },
    {
      "cell_type": "code",
      "metadata": {
        "id": "RrkEdie4GJug",
        "outputId": "1f966729-33c0-4efb-8cb6-314a58496ba8",
        "colab": {
          "base_uri": "https://localhost:8080/"
        }
      },
      "source": [
        "years = data.groupby('year')\r\n",
        "years"
      ],
      "execution_count": 190,
      "outputs": [
        {
          "output_type": "execute_result",
          "data": {
            "text/plain": [
              "<pandas.core.groupby.generic.DataFrameGroupBy object at 0x7f037397a7b8>"
            ]
          },
          "metadata": {
            "tags": []
          },
          "execution_count": 190
        }
      ]
    },
    {
      "cell_type": "code",
      "metadata": {
        "id": "ZmO4hZxsG9-H"
      },
      "source": [
        ""
      ],
      "execution_count": null,
      "outputs": []
    }
  ]
}