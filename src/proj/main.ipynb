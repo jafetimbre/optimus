{
  "nbformat": 4,
  "nbformat_minor": 0,
  "metadata": {
    "language_info": {
      "codemirror_mode": {
        "name": "ipython",
        "version": 3
      },
      "file_extension": ".py",
      "mimetype": "text/x-python",
      "name": "python",
      "nbconvert_exporter": "python",
      "pygments_lexer": "ipython3",
      "version": "3.8.6-final"
    },
    "orig_nbformat": 2,
    "kernelspec": {
      "name": "python3",
      "display_name": "Python 3.8.6 64-bit",
      "metadata": {
        "interpreter": {
          "hash": "122b684e0147009c315d6711cdbb4bc67c0b28d0ba10cdfcd148f2449410c391"
        }
      }
    },
    "colab": {
      "name": "main.ipynb",
      "provenance": [],
      "include_colab_link": true
    }
  },
  "cells": [
    {
      "cell_type": "markdown",
      "metadata": {
        "id": "view-in-github",
        "colab_type": "text"
      },
      "source": [
        "<a href=\"https://colab.research.google.com/github/jafetimbre/optimus/blob/master/src/proj/main.ipynb\" target=\"_parent\"><img src=\"https://colab.research.google.com/assets/colab-badge.svg\" alt=\"Open In Colab\"/></a>"
      ]
    },
    {
      "cell_type": "code",
      "metadata": {
        "id": "FosDdwiGdWxj"
      },
      "source": [
        "!pip install dask distributed dask[dataframe] -U -q\r\n",
        "!pip install requests aiohttp sodapy -q "
      ],
      "execution_count": 47,
      "outputs": []
    },
    {
      "cell_type": "code",
      "metadata": {
        "id": "bsuceLh5dCWg"
      },
      "source": [
        "import pandas as pd\r\n",
        "import json\r\n",
        "import datetime\r\n",
        "import numpy as np\r\n",
        "\r\n",
        "import dask \r\n",
        "import dask.dataframe as dd\r\n",
        "import dask.bag as db\r\n",
        "\r\n",
        "from sodapy import Socrata"
      ],
      "execution_count": 173,
      "outputs": []
    },
    {
      "cell_type": "code",
      "metadata": {
        "id": "sWEXzzRsg6JF",
        "colab": {
          "base_uri": "https://localhost:8080/"
        },
        "outputId": "7da481d3-540b-43bd-f5e6-227a49b74956"
      },
      "source": [
        "socrata_client = Socrata(\"data.cityofchicago.org\", None)\r\n",
        "dask_bag = db.from_sequence(socrata_client.get(\"85ca-t3if\", where=\"crash_date > '2020-01-01T00:00:00.000' AND crash_date < '2020-12-31T00:00:00.000'\", content_type=\"json\", limit=10000))"
      ],
      "execution_count": 215,
      "outputs": [
        {
          "output_type": "stream",
          "text": [
            "WARNING:root:Requests made without an app_token will be subject to strict throttling limits.\n"
          ],
          "name": "stderr"
        }
      ]
    },
    {
      "cell_type": "code",
      "metadata": {
        "id": "Mr5uKdjv0hjH"
      },
      "source": [
        "def to_props(record):\r\n",
        "    return (\r\n",
        "        str(record['crash_record_id']),\r\n",
        "        datetime.datetime.strptime(record['crash_date'], '%Y-%m-%dT%H:%M:%S.%f'),\r\n",
        "        datetime.datetime.strptime(record['date_police_notified'], '%Y-%m-%dT%H:%M:%S.%f'),\r\n",
        "        str(record['crash_type']),\r\n",
        "        int(record['num_units']),\r\n",
        "        int(record['posted_speed_limit']),\r\n",
        "        str(record['trafficway_type']),\r\n",
        "        str(record['prim_contributory_cause']) if record['prim_contributory_cause'] not in ['UNABLE TO DETERMINE', 'NOT APPLICABLE'] else 'None',\r\n",
        "        str(record['sec_contributory_cause']) if record['sec_contributory_cause'] not in ['UNABLE TO DETERMINE', 'NOT APPLICABLE'] else 'None',\r\n",
        "        str(record['damage']),\r\n",
        "        (True if record['hit_and_run_i'] == 'Y' else False) if 'hit_and_run_i' in record else 'False',\r\n",
        "        str(record['lighting_condition']),\r\n",
        "        str(record['road_defect']),\r\n",
        "        str(record['weather_condition']),\r\n",
        "        str(record['roadway_surface_cond']),\r\n",
        "        float(record['injuries_incapacitating']) if 'injuries_incapacitating' in record else np.nan,\r\n",
        "        float(record['injuries_fatal']) if 'injuries_fatal' in record else np.nan,\r\n",
        "        float(record['injuries_total']) if 'injuries_fatal' in record else np.nan,\r\n",
        "        float(record['latitude']) if 'latitude' in record else np.nan,\r\n",
        "        float(record['longitude']) if 'longitude' in record else np.nan\r\n",
        "    )"
      ],
      "execution_count": 218,
      "outputs": []
    },
    {
      "cell_type": "code",
      "metadata": {
        "id": "EVyK99ra0TI_"
      },
      "source": [
        "meta_types = {\r\n",
        "    'crash_record_id': str,\r\n",
        "    'crash_date': object,\r\n",
        "    'date_police_notified': object,\r\n",
        "    'crash_type': str,\r\n",
        "    'num_units': int,\r\n",
        "    'posted_speed_limit': int,\r\n",
        "    'trafficway_type': str,\r\n",
        "    'prim_contrib_cause': str,\r\n",
        "    'sec_contrib_cause': str,\r\n",
        "    'damage': str,\r\n",
        "    'hit_and_run': bool,\r\n",
        "    'lighting_condition': str,\r\n",
        "    'road_defect': str,\r\n",
        "    'weather_condition': str,\r\n",
        "    'roadway_surface_cond': str,\r\n",
        "    'injuries_incapacitating': float,\r\n",
        "    'injuries_fatal': float,\r\n",
        "    'injuries_total': float,\r\n",
        "    'latitude': float,\r\n",
        "    'longitude': float,\r\n",
        "}"
      ],
      "execution_count": 219,
      "outputs": []
    },
    {
      "cell_type": "code",
      "metadata": {
        "id": "kjTwWyUNtPGi"
      },
      "source": [
        "df = dask_bag.map(to_props).to_dataframe(meta=meta_types).set_index(['crash_record_id'])"
      ],
      "execution_count": 222,
      "outputs": []
    },
    {
      "cell_type": "code",
      "metadata": {
        "colab": {
          "base_uri": "https://localhost:8080/",
          "height": 442
        },
        "id": "1SzgjeQhzj1R",
        "outputId": "41cc920b-2b42-4809-9302-9c1686c1f1ea"
      },
      "source": [
        "df.head()"
      ],
      "execution_count": 224,
      "outputs": [
        {
          "output_type": "execute_result",
          "data": {
            "text/html": [
              "<div>\n",
              "<style scoped>\n",
              "    .dataframe tbody tr th:only-of-type {\n",
              "        vertical-align: middle;\n",
              "    }\n",
              "\n",
              "    .dataframe tbody tr th {\n",
              "        vertical-align: top;\n",
              "    }\n",
              "\n",
              "    .dataframe thead th {\n",
              "        text-align: right;\n",
              "    }\n",
              "</style>\n",
              "<table border=\"1\" class=\"dataframe\">\n",
              "  <thead>\n",
              "    <tr style=\"text-align: right;\">\n",
              "      <th></th>\n",
              "      <th>crash_date</th>\n",
              "      <th>date_police_notified</th>\n",
              "      <th>crash_type</th>\n",
              "      <th>num_units</th>\n",
              "      <th>posted_speed_limit</th>\n",
              "      <th>trafficway_type</th>\n",
              "      <th>prim_contrib_cause</th>\n",
              "      <th>sec_contrib_cause</th>\n",
              "      <th>damage</th>\n",
              "      <th>hit_and_run</th>\n",
              "      <th>lighting_condition</th>\n",
              "      <th>road_defect</th>\n",
              "      <th>weather_condition</th>\n",
              "      <th>roadway_surface_cond</th>\n",
              "      <th>injuries_incapacitating</th>\n",
              "      <th>injuries_fatal</th>\n",
              "      <th>injuries_total</th>\n",
              "      <th>latitude</th>\n",
              "      <th>longitude</th>\n",
              "    </tr>\n",
              "    <tr>\n",
              "      <th>crash_record_id</th>\n",
              "      <th></th>\n",
              "      <th></th>\n",
              "      <th></th>\n",
              "      <th></th>\n",
              "      <th></th>\n",
              "      <th></th>\n",
              "      <th></th>\n",
              "      <th></th>\n",
              "      <th></th>\n",
              "      <th></th>\n",
              "      <th></th>\n",
              "      <th></th>\n",
              "      <th></th>\n",
              "      <th></th>\n",
              "      <th></th>\n",
              "      <th></th>\n",
              "      <th></th>\n",
              "      <th></th>\n",
              "      <th></th>\n",
              "    </tr>\n",
              "  </thead>\n",
              "  <tbody>\n",
              "    <tr>\n",
              "      <th>00029439ab0a2ca8700a84111a28b39e6d697c46adfcf171f3911a9a1bf71caae1a07cf838424451bcb957fa7a3269a7ad2a7fbe5766eefb1f00a666e9dd6303</th>\n",
              "      <td>2020-01-31 17:38:00</td>\n",
              "      <td>2020-01-31 17:54:00</td>\n",
              "      <td>NO INJURY / DRIVE AWAY</td>\n",
              "      <td>2</td>\n",
              "      <td>30</td>\n",
              "      <td>NOT DIVIDED</td>\n",
              "      <td>None</td>\n",
              "      <td>None</td>\n",
              "      <td>$501 - $1,500</td>\n",
              "      <td>True</td>\n",
              "      <td>DAYLIGHT</td>\n",
              "      <td>NO DEFECTS</td>\n",
              "      <td>CLEAR</td>\n",
              "      <td>DRY</td>\n",
              "      <td>0.0</td>\n",
              "      <td>0.0</td>\n",
              "      <td>0.0</td>\n",
              "      <td>41.777129</td>\n",
              "      <td>-87.698362</td>\n",
              "    </tr>\n",
              "    <tr>\n",
              "      <th>000384604d6ea5a1295800c524c4446c34d03167c2d1171f4445dcd00d36ac3a5f764e0d41b58479e2943e1d98e23aceabed999090811833a6bdae5d3bc2cf08</th>\n",
              "      <td>2020-01-09 08:45:00</td>\n",
              "      <td>2020-01-09 09:00:00</td>\n",
              "      <td>NO INJURY / DRIVE AWAY</td>\n",
              "      <td>2</td>\n",
              "      <td>30</td>\n",
              "      <td>NOT DIVIDED</td>\n",
              "      <td>None</td>\n",
              "      <td>None</td>\n",
              "      <td>OVER $1,500</td>\n",
              "      <td>True</td>\n",
              "      <td>DAYLIGHT</td>\n",
              "      <td>NO DEFECTS</td>\n",
              "      <td>CLEAR</td>\n",
              "      <td>DRY</td>\n",
              "      <td>0.0</td>\n",
              "      <td>0.0</td>\n",
              "      <td>0.0</td>\n",
              "      <td>41.964320</td>\n",
              "      <td>-87.742783</td>\n",
              "    </tr>\n",
              "    <tr>\n",
              "      <th>00060f93d2ae8d4e4c7fe75ac17055dd69a081d0b928a52655ccf9f719dab5e0ab62392ffe92aeed79bf3e1be2239745efad0e944f85eefb48f53c1cf41e19b2</th>\n",
              "      <td>2020-01-21 16:16:00</td>\n",
              "      <td>2020-01-21 16:18:00</td>\n",
              "      <td>INJURY AND / OR TOW DUE TO CRASH</td>\n",
              "      <td>2</td>\n",
              "      <td>30</td>\n",
              "      <td>FOUR WAY</td>\n",
              "      <td>None</td>\n",
              "      <td>None</td>\n",
              "      <td>$501 - $1,500</td>\n",
              "      <td>True</td>\n",
              "      <td>DAYLIGHT</td>\n",
              "      <td>NO DEFECTS</td>\n",
              "      <td>CLEAR</td>\n",
              "      <td>DRY</td>\n",
              "      <td>0.0</td>\n",
              "      <td>0.0</td>\n",
              "      <td>1.0</td>\n",
              "      <td>41.791610</td>\n",
              "      <td>-87.703356</td>\n",
              "    </tr>\n",
              "    <tr>\n",
              "      <th>000704692fa98ef82f8a4e2c7bec64f93e2d6cdeaa5565964bd5df75cb49bc07e320b67d6d9ed61e20eba9df382af05da0e4bf61a4da38a1138bdc7ba1f8c14e</th>\n",
              "      <td>2020-02-03 09:00:00</td>\n",
              "      <td>2020-02-03 09:30:00</td>\n",
              "      <td>NO INJURY / DRIVE AWAY</td>\n",
              "      <td>2</td>\n",
              "      <td>30</td>\n",
              "      <td>NOT DIVIDED</td>\n",
              "      <td>FOLLOWING TOO CLOSELY</td>\n",
              "      <td>None</td>\n",
              "      <td>OVER $1,500</td>\n",
              "      <td>True</td>\n",
              "      <td>DAYLIGHT</td>\n",
              "      <td>NO DEFECTS</td>\n",
              "      <td>CLEAR</td>\n",
              "      <td>DRY</td>\n",
              "      <td>0.0</td>\n",
              "      <td>0.0</td>\n",
              "      <td>0.0</td>\n",
              "      <td>41.690717</td>\n",
              "      <td>-87.739586</td>\n",
              "    </tr>\n",
              "    <tr>\n",
              "      <th>0008be33a0b3ec0a20537e1b2ce29a9a40a41254032c1c6890cf769c20048533640a7cea4a25c1986936d126ebb1929e2bde79f76a993a8ba3d1899386902d4b</th>\n",
              "      <td>2020-01-29 15:15:00</td>\n",
              "      <td>2020-01-30 09:51:00</td>\n",
              "      <td>NO INJURY / DRIVE AWAY</td>\n",
              "      <td>3</td>\n",
              "      <td>10</td>\n",
              "      <td>NOT DIVIDED</td>\n",
              "      <td>None</td>\n",
              "      <td>None</td>\n",
              "      <td>$500 OR LESS</td>\n",
              "      <td>False</td>\n",
              "      <td>DAYLIGHT</td>\n",
              "      <td>NO DEFECTS</td>\n",
              "      <td>CLOUDY/OVERCAST</td>\n",
              "      <td>DRY</td>\n",
              "      <td>0.0</td>\n",
              "      <td>0.0</td>\n",
              "      <td>0.0</td>\n",
              "      <td>41.869885</td>\n",
              "      <td>-87.711309</td>\n",
              "    </tr>\n",
              "  </tbody>\n",
              "</table>\n",
              "</div>"
            ],
            "text/plain": [
              "                                                             crash_date  ...  longitude\n",
              "crash_record_id                                                          ...           \n",
              "00029439ab0a2ca8700a84111a28b39e6d697c46adfcf17...  2020-01-31 17:38:00  ... -87.698362\n",
              "000384604d6ea5a1295800c524c4446c34d03167c2d1171...  2020-01-09 08:45:00  ... -87.742783\n",
              "00060f93d2ae8d4e4c7fe75ac17055dd69a081d0b928a52...  2020-01-21 16:16:00  ... -87.703356\n",
              "000704692fa98ef82f8a4e2c7bec64f93e2d6cdeaa55659...  2020-02-03 09:00:00  ... -87.739586\n",
              "0008be33a0b3ec0a20537e1b2ce29a9a40a41254032c1c6...  2020-01-29 15:15:00  ... -87.711309\n",
              "\n",
              "[5 rows x 19 columns]"
            ]
          },
          "metadata": {
            "tags": []
          },
          "execution_count": 224
        }
      ]
    },
    {
      "cell_type": "code",
      "metadata": {
        "id": "lEuEX_RGNWkj"
      },
      "source": [
        ""
      ],
      "execution_count": null,
      "outputs": []
    }
  ]
}