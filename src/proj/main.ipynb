{
  "nbformat": 4,
  "nbformat_minor": 0,
  "metadata": {
    "language_info": {
      "codemirror_mode": {
        "name": "ipython",
        "version": 3
      },
      "file_extension": ".py",
      "mimetype": "text/x-python",
      "name": "python",
      "nbconvert_exporter": "python",
      "pygments_lexer": "ipython3",
      "version": "3.8.6-final"
    },
    "orig_nbformat": 2,
    "kernelspec": {
      "name": "python3",
      "display_name": "Python 3.8.6 64-bit",
      "metadata": {
        "interpreter": {
          "hash": "122b684e0147009c315d6711cdbb4bc67c0b28d0ba10cdfcd148f2449410c391"
        }
      }
    },
    "colab": {
      "name": "main.ipynb",
      "provenance": [],
      "include_colab_link": true
    }
  },
  "cells": [
    {
      "cell_type": "markdown",
      "metadata": {
        "id": "view-in-github",
        "colab_type": "text"
      },
      "source": [
        "<a href=\"https://colab.research.google.com/github/jafetimbre/optimus/blob/master/src/proj/main.ipynb\" target=\"_parent\"><img src=\"https://colab.research.google.com/assets/colab-badge.svg\" alt=\"Open In Colab\"/></a>"
      ]
    },
    {
      "cell_type": "code",
      "metadata": {
        "id": "FosDdwiGdWxj"
      },
      "source": [
        "!pip install dask distributed dask[dataframe] -U -q\r\n",
        "!pip install requests aiohttp sodapy -q "
      ],
      "execution_count": 47,
      "outputs": []
    },
    {
      "cell_type": "code",
      "metadata": {
        "id": "bsuceLh5dCWg"
      },
      "source": [
        "import pandas as pd\r\n",
        "import json\r\n",
        "import datetime\r\n",
        "import numpy as np\r\n",
        "\r\n",
        "import dask \r\n",
        "import dask.dataframe as dd\r\n",
        "import dask.bag as db\r\n",
        "\r\n",
        "from sodapy import Socrata"
      ],
      "execution_count": 173,
      "outputs": []
    },
    {
      "cell_type": "code",
      "metadata": {
        "id": "sWEXzzRsg6JF",
        "colab": {
          "base_uri": "https://localhost:8080/"
        },
        "outputId": "7da481d3-540b-43bd-f5e6-227a49b74956"
      },
      "source": [
        "socrata_client = Socrata(\"data.cityofchicago.org\", None)\r\n",
        "dask_bag = db.from_sequence(socrata_client.get(\"85ca-t3if\", where=\"crash_date > '2020-01-01T00:00:00.000' AND crash_date < '2020-12-31T00:00:00.000'\", content_type=\"json\", limit=10000))"
      ],
      "execution_count": 215,
      "outputs": [
        {
          "output_type": "stream",
          "text": [
            "WARNING:root:Requests made without an app_token will be subject to strict throttling limits.\n"
          ],
          "name": "stderr"
        }
      ]
    },
    {
      "cell_type": "code",
      "metadata": {
        "id": "Mr5uKdjv0hjH"
      },
      "source": [
        "def to_props(record):\r\n",
        "    return (\r\n",
        "        datetime.datetime.strptime(record['crash_date'], '%Y-%m-%dT%H:%M:%S.%f'),\r\n",
        "        datetime.datetime.strptime(record['date_police_notified'], '%Y-%m-%dT%H:%M:%S.%f'),\r\n",
        "        str(record['crash_type']),\r\n",
        "        int(record['num_units']),\r\n",
        "        int(record['posted_speed_limit']),\r\n",
        "        str(record['trafficway_type']),\r\n",
        "        str(record['prim_contributory_cause']) if record['prim_contributory_cause'] not in ['UNABLE TO DETERMINE', 'NOT APPLICABLE'] else 'None',\r\n",
        "        str(record['sec_contributory_cause']) if record['sec_contributory_cause'] not in ['UNABLE TO DETERMINE', 'NOT APPLICABLE'] else 'None',\r\n",
        "        str(record['damage']),\r\n",
        "        (True if record['hit_and_run_i'] == 'Y' else False) if 'hit_and_run_i' in record else 'False',\r\n",
        "        str(record['lighting_condition']),\r\n",
        "        str(record['road_defect']),\r\n",
        "        str(record['weather_condition']),\r\n",
        "        str(record['roadway_surface_cond']),\r\n",
        "        float(record['injuries_incapacitating']) if 'injuries_incapacitating' in record else np.nan,\r\n",
        "        float(record['injuries_fatal']) if 'injuries_fatal' in record else np.nan,\r\n",
        "        float(record['injuries_total']) if 'injuries_fatal' in record else np.nan,\r\n",
        "        float(record['latitude']) if 'latitude' in record else np.nan,\r\n",
        "        float(record['longitude']) if 'longitude' in record else np.nan\r\n",
        "    )"
      ],
      "execution_count": 232,
      "outputs": []
    },
    {
      "cell_type": "code",
      "metadata": {
        "id": "EVyK99ra0TI_"
      },
      "source": [
        "meta_types = {\r\n",
        "    'crash_date': object,\r\n",
        "    'date_police_notified': object,\r\n",
        "    'crash_type': str,\r\n",
        "    'num_units': int,\r\n",
        "    'posted_speed_limit': int,\r\n",
        "    'trafficway_type': str,\r\n",
        "    'prim_contrib_cause': str,\r\n",
        "    'sec_contrib_cause': str,\r\n",
        "    'damage': str,\r\n",
        "    'hit_and_run': bool,\r\n",
        "    'lighting_condition': str,\r\n",
        "    'road_defect': str,\r\n",
        "    'weather_condition': str,\r\n",
        "    'roadway_surface_cond': str,\r\n",
        "    'injuries_incapacitating': float,\r\n",
        "    'injuries_fatal': float,\r\n",
        "    'injuries_total': float,\r\n",
        "    'latitude': float,\r\n",
        "    'longitude': float,\r\n",
        "}"
      ],
      "execution_count": 233,
      "outputs": []
    },
    {
      "cell_type": "code",
      "metadata": {
        "id": "kjTwWyUNtPGi"
      },
      "source": [
        "df = dask_bag.map(to_props).to_dataframe(meta=meta_types).set_index(['crash_date'])"
      ],
      "execution_count": 234,
      "outputs": []
    },
    {
      "cell_type": "code",
      "metadata": {
        "colab": {
          "base_uri": "https://localhost:8080/",
          "height": 446
        },
        "id": "1SzgjeQhzj1R",
        "outputId": "c58090dd-981a-442a-9289-87f8d303cb16"
      },
      "source": [
        "df.head()"
      ],
      "execution_count": 235,
      "outputs": [
        {
          "output_type": "execute_result",
          "data": {
            "text/html": [
              "<div>\n",
              "<style scoped>\n",
              "    .dataframe tbody tr th:only-of-type {\n",
              "        vertical-align: middle;\n",
              "    }\n",
              "\n",
              "    .dataframe tbody tr th {\n",
              "        vertical-align: top;\n",
              "    }\n",
              "\n",
              "    .dataframe thead th {\n",
              "        text-align: right;\n",
              "    }\n",
              "</style>\n",
              "<table border=\"1\" class=\"dataframe\">\n",
              "  <thead>\n",
              "    <tr style=\"text-align: right;\">\n",
              "      <th></th>\n",
              "      <th>date_police_notified</th>\n",
              "      <th>crash_type</th>\n",
              "      <th>num_units</th>\n",
              "      <th>posted_speed_limit</th>\n",
              "      <th>trafficway_type</th>\n",
              "      <th>prim_contrib_cause</th>\n",
              "      <th>sec_contrib_cause</th>\n",
              "      <th>damage</th>\n",
              "      <th>hit_and_run</th>\n",
              "      <th>lighting_condition</th>\n",
              "      <th>road_defect</th>\n",
              "      <th>weather_condition</th>\n",
              "      <th>roadway_surface_cond</th>\n",
              "      <th>injuries_incapacitating</th>\n",
              "      <th>injuries_fatal</th>\n",
              "      <th>injuries_total</th>\n",
              "      <th>latitude</th>\n",
              "      <th>longitude</th>\n",
              "    </tr>\n",
              "    <tr>\n",
              "      <th>crash_date</th>\n",
              "      <th></th>\n",
              "      <th></th>\n",
              "      <th></th>\n",
              "      <th></th>\n",
              "      <th></th>\n",
              "      <th></th>\n",
              "      <th></th>\n",
              "      <th></th>\n",
              "      <th></th>\n",
              "      <th></th>\n",
              "      <th></th>\n",
              "      <th></th>\n",
              "      <th></th>\n",
              "      <th></th>\n",
              "      <th></th>\n",
              "      <th></th>\n",
              "      <th></th>\n",
              "      <th></th>\n",
              "    </tr>\n",
              "  </thead>\n",
              "  <tbody>\n",
              "    <tr>\n",
              "      <th>2020-01-01 00:01:00</th>\n",
              "      <td>2020-01-01 14:30:00</td>\n",
              "      <td>NO INJURY / DRIVE AWAY</td>\n",
              "      <td>2</td>\n",
              "      <td>30</td>\n",
              "      <td>ONE-WAY</td>\n",
              "      <td>None</td>\n",
              "      <td>None</td>\n",
              "      <td>$501 - $1,500</td>\n",
              "      <td>True</td>\n",
              "      <td>DARKNESS, LIGHTED ROAD</td>\n",
              "      <td>NO DEFECTS</td>\n",
              "      <td>UNKNOWN</td>\n",
              "      <td>SNOW OR SLUSH</td>\n",
              "      <td>0.0</td>\n",
              "      <td>0.0</td>\n",
              "      <td>0.0</td>\n",
              "      <td>41.914563</td>\n",
              "      <td>-87.733948</td>\n",
              "    </tr>\n",
              "    <tr>\n",
              "      <th>2020-01-01 00:01:00</th>\n",
              "      <td>2020-01-01 09:57:00</td>\n",
              "      <td>INJURY AND / OR TOW DUE TO CRASH</td>\n",
              "      <td>1</td>\n",
              "      <td>25</td>\n",
              "      <td>NOT DIVIDED</td>\n",
              "      <td>None</td>\n",
              "      <td>None</td>\n",
              "      <td>OVER $1,500</td>\n",
              "      <td>False</td>\n",
              "      <td>UNKNOWN</td>\n",
              "      <td>UNKNOWN</td>\n",
              "      <td>UNKNOWN</td>\n",
              "      <td>UNKNOWN</td>\n",
              "      <td>0.0</td>\n",
              "      <td>0.0</td>\n",
              "      <td>0.0</td>\n",
              "      <td>41.746329</td>\n",
              "      <td>-87.738093</td>\n",
              "    </tr>\n",
              "    <tr>\n",
              "      <th>2020-01-01 00:10:00</th>\n",
              "      <td>2020-01-01 00:10:00</td>\n",
              "      <td>NO INJURY / DRIVE AWAY</td>\n",
              "      <td>1</td>\n",
              "      <td>10</td>\n",
              "      <td>ALLEY</td>\n",
              "      <td>WEATHER</td>\n",
              "      <td>None</td>\n",
              "      <td>OVER $1,500</td>\n",
              "      <td>True</td>\n",
              "      <td>DARKNESS, LIGHTED ROAD</td>\n",
              "      <td>NO DEFECTS</td>\n",
              "      <td>CLEAR</td>\n",
              "      <td>ICE</td>\n",
              "      <td>0.0</td>\n",
              "      <td>0.0</td>\n",
              "      <td>0.0</td>\n",
              "      <td>41.869246</td>\n",
              "      <td>-87.744963</td>\n",
              "    </tr>\n",
              "    <tr>\n",
              "      <th>2020-01-01 00:12:00</th>\n",
              "      <td>2020-01-01 10:30:00</td>\n",
              "      <td>NO INJURY / DRIVE AWAY</td>\n",
              "      <td>2</td>\n",
              "      <td>25</td>\n",
              "      <td>NOT DIVIDED</td>\n",
              "      <td>IMPROPER BACKING</td>\n",
              "      <td>None</td>\n",
              "      <td>$501 - $1,500</td>\n",
              "      <td>True</td>\n",
              "      <td>DARKNESS</td>\n",
              "      <td>NO DEFECTS</td>\n",
              "      <td>CLEAR</td>\n",
              "      <td>DRY</td>\n",
              "      <td>0.0</td>\n",
              "      <td>0.0</td>\n",
              "      <td>0.0</td>\n",
              "      <td>41.897781</td>\n",
              "      <td>-87.618080</td>\n",
              "    </tr>\n",
              "    <tr>\n",
              "      <th>2020-01-01 00:15:00</th>\n",
              "      <td>2020-01-01 00:33:00</td>\n",
              "      <td>INJURY AND / OR TOW DUE TO CRASH</td>\n",
              "      <td>2</td>\n",
              "      <td>30</td>\n",
              "      <td>NOT DIVIDED</td>\n",
              "      <td>None</td>\n",
              "      <td>None</td>\n",
              "      <td>OVER $1,500</td>\n",
              "      <td>True</td>\n",
              "      <td>DARKNESS, LIGHTED ROAD</td>\n",
              "      <td>UNKNOWN</td>\n",
              "      <td>CLEAR</td>\n",
              "      <td>SNOW OR SLUSH</td>\n",
              "      <td>0.0</td>\n",
              "      <td>0.0</td>\n",
              "      <td>0.0</td>\n",
              "      <td>41.799585</td>\n",
              "      <td>-87.683770</td>\n",
              "    </tr>\n",
              "  </tbody>\n",
              "</table>\n",
              "</div>"
            ],
            "text/plain": [
              "                    date_police_notified  ...  longitude\n",
              "crash_date                                ...           \n",
              "2020-01-01 00:01:00  2020-01-01 14:30:00  ... -87.733948\n",
              "2020-01-01 00:01:00  2020-01-01 09:57:00  ... -87.738093\n",
              "2020-01-01 00:10:00  2020-01-01 00:10:00  ... -87.744963\n",
              "2020-01-01 00:12:00  2020-01-01 10:30:00  ... -87.618080\n",
              "2020-01-01 00:15:00  2020-01-01 00:33:00  ... -87.683770\n",
              "\n",
              "[5 rows x 18 columns]"
            ]
          },
          "metadata": {
            "tags": []
          },
          "execution_count": 235
        }
      ]
    },
    {
      "cell_type": "code",
      "metadata": {
        "id": "lEuEX_RGNWkj"
      },
      "source": [
        "df = df.dropna()"
      ],
      "execution_count": 236,
      "outputs": []
    }
  ]
}