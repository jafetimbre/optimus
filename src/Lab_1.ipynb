{
 "cells": [
  {
   "cell_type": "code",
   "execution_count": 3,
   "id": "clean-insurance",
   "metadata": {},
   "outputs": [],
   "source": [
    "# Laboratorul 1"
   ]
  },
  {
   "cell_type": "code",
   "execution_count": null,
   "id": "driven-belief",
   "metadata": {},
   "outputs": [],
   "source": [
    "Creați 3 obiecte diferite cu același nume, verificați\n",
    "tipul cu funcția type\n"
   ]
  },
  {
   "cell_type": "code",
   "execution_count": null,
   "id": "boring-internet",
   "metadata": {},
   "outputs": [],
   "source": [
    "x = 1\n",
    "print(f'x are valoarea ({x}) este de tipul: {type(x)}')\n",
    "x = 'Hello world'\n",
    "print(f'x are valoarea ({x}) este de tipul: {type(x)}')\n",
    "x = 4.34\n",
    "print(f'x are valoarea ({x}) este de tipul: {type(x)}')"
   ]
  },
  {
   "cell_type": "markdown",
   "id": "chronic-automation",
   "metadata": {},
   "source": [
    "Creați 3 referințe la aceeași obiect, verificați\n",
    "identitatea obiectelor cu funcția id sau cu operatorul\n",
    "de comparare"
   ]
  },
  {
   "cell_type": "code",
   "execution_count": 12,
   "id": "determined-allowance",
   "metadata": {},
   "outputs": [
    {
     "name": "stdout",
     "output_type": "stream",
     "text": [
      "Id ul lui a este 140726541551552\n",
      "Id ul lui b este 140726541551552\n",
      "Id ul lui c este 140726541551552\n"
     ]
    },
    {
     "data": {
      "text/plain": [
       "True"
      ]
     },
     "execution_count": 12,
     "metadata": {},
     "output_type": "execute_result"
    }
   ],
   "source": [
    "a = 10\n",
    "b = a\n",
    "c = a\n",
    "\n",
    "print(f'Id ul lui a este {id(a)}')\n",
    "print(f'Id ul lui b este {id(b)}')\n",
    "print(f'Id ul lui c este {id(c)}')\n",
    "\n",
    "id(a) == id(b) == id(c)"
   ]
  },
  {
   "cell_type": "code",
   "execution_count": 15,
   "id": "incomplete-accused",
   "metadata": {},
   "outputs": [
    {
     "name": "stdout",
     "output_type": "stream",
     "text": [
      "Id ul lui n inainte de modificare este 140726541551552\n",
      "Id ul lui n dupa de modificare este 140726541551296\n"
     ]
    },
    {
     "data": {
      "text/plain": [
       "False"
      ]
     },
     "execution_count": 15,
     "metadata": {},
     "output_type": "execute_result"
    }
   ],
   "source": [
    "n = 10\n",
    "id_n_0 = id(n)\n",
    "print(f'Id ul lui n inainte de modificare este {id_n_0}')\n",
    "\n",
    "n = 2\n",
    "id_n_1 = id(n)\n",
    "print(f'Id ul lui n dupa de modificare este {id_n_1}')\n",
    "\n",
    "id_n_0 == id_n_1"
   ]
  },
  {
   "cell_type": "code",
   "execution_count": 24,
   "id": "western-blues",
   "metadata": {},
   "outputs": [
    {
     "name": "stdout",
     "output_type": "stream",
     "text": [
      "Id ul listei inainnte de modificare este 2038084579392\n",
      "Id ul listei dupa de modificare este 2038084579392\n"
     ]
    },
    {
     "data": {
      "text/plain": [
       "True"
      ]
     },
     "execution_count": 24,
     "metadata": {},
     "output_type": "execute_result"
    }
   ],
   "source": [
    "l = []\n",
    "id_l_0 = id(l)\n",
    "print(f'Id ul listei inainnte de modificare este {id_l_0}')\n",
    "\n",
    "l.append(1)\n",
    "id_l_1 = id(l)\n",
    "print(f'Id ul listei dupa de modificare este {id_l_1}')\n",
    "\n",
    "id_l_0 == id_l_1\n",
    "\n",
    "\n",
    "del l # eliberarea listei l"
   ]
  },
  {
   "cell_type": "code",
   "execution_count": 36,
   "id": "magnetic-placement",
   "metadata": {},
   "outputs": [
    {
     "name": "stdout",
     "output_type": "stream",
     "text": [
      "Lista 1 are elementele: ['one', 'two', 'three']\n",
      "Lista 2 are elementele: ['one', 'two', 'three']\n",
      "Lista 3 are elementele: ['one', 'two', 'three']\n",
      "\n",
      "Eliminarea ultimului element din linsta 1 ...\n",
      "\n",
      "Lista 1 are elementele: ['one', 'two']\n",
      "Lista 2 are elementele: ['one', 'two']\n",
      "Lista 3 are elementele: ['one', 'two', 'three']\n"
     ]
    }
   ],
   "source": [
    "l_1 = [ 'one', 'two', 'three' ]\n",
    "l_2 = l_1\n",
    "l_3 = l_1.copy()\n",
    "\n",
    "print(f'Lista 1 are elementele: {l_1}')\n",
    "print(f'Lista 2 are elementele: {l_2}')\n",
    "print(f'Lista 3 are elementele: {l_3}')\n",
    "\n",
    "print('\\nEliminarea ultimului element din linsta 1 ...\\n')\n",
    "l_1.remove('three')\n",
    "\n",
    "print(f'Lista 1 are elementele: {l_1}')\n",
    "print(f'Lista 2 are elementele: {l_2}')\n",
    "print(f'Lista 3 are elementele: {l_3}')"
   ]
  },
  {
   "cell_type": "markdown",
   "id": "entire-spell",
   "metadata": {},
   "source": [
    "# Liste"
   ]
  },
  {
   "cell_type": "code",
   "execution_count": 49,
   "id": "divided-livestock",
   "metadata": {},
   "outputs": [
    {
     "name": "stdout",
     "output_type": "stream",
     "text": [
      "[1, 'doi', 3.0, 'patru', 5.001, 6]\n"
     ]
    }
   ],
   "source": [
    "lista = [ 1, 'doi', 3.0, 'patru', 5.001, 6 ]\n",
    "print(lista)"
   ]
  },
  {
   "cell_type": "code",
   "execution_count": 55,
   "id": "applied-access",
   "metadata": {},
   "outputs": [
    {
     "name": "stdout",
     "output_type": "stream",
     "text": [
      "[1, '1.5', '1.5', 'doi', 3.0, 'patru', 5.001]\n"
     ]
    }
   ],
   "source": [
    "# adaugarea la pozitia 2\n",
    "lista.insert(1, '1.5')\n",
    "\n",
    "print([i for i in lista])"
   ]
  },
  {
   "cell_type": "code",
   "execution_count": 53,
   "id": "political-packet",
   "metadata": {},
   "outputs": [
    {
     "name": "stdout",
     "output_type": "stream",
     "text": [
      "1\n",
      "1.5\n",
      "doi\n",
      "3.0\n",
      "patru\n",
      "5.001\n"
     ]
    }
   ],
   "source": [
    "# Eliminarea elementului de la ultima pozitie\n",
    "lista.pop()\n",
    "\n",
    "for i in lista:\n",
    "    print(i)"
   ]
  },
  {
   "cell_type": "code",
   "execution_count": 68,
   "id": "beginning-prize",
   "metadata": {},
   "outputs": [
    {
     "name": "stdout",
     "output_type": "stream",
     "text": [
      "1\n",
      "None\n",
      "None\n",
      "None\n",
      "None\n",
      "None\n",
      "None\n",
      "None\n",
      "None\n",
      "\n",
      "\n",
      "None\n",
      "None\n",
      "None\n",
      "None\n",
      "1\n",
      "None\n",
      "None\n",
      "None\n",
      "None\n",
      "\n",
      "\n",
      "None\n",
      "None\n",
      "None\n",
      "None\n",
      "None\n",
      "None\n",
      "None\n",
      "None\n",
      "1\n",
      "\n",
      "\n"
     ]
    }
   ],
   "source": [
    "# Creare structura tridimensionala\n",
    "tri = {}\n",
    "\n",
    "dim = 3\n",
    "\n",
    "for ind in range(dim):\n",
    "    tri[(ind, ind, ind)] = '1'\n",
    "    \n",
    "# afisarea structurii\n",
    "for x in range(dim):\n",
    "    for y in range(dim):\n",
    "        for z in range(dim):\n",
    "            print( tri[(x, y, z)] if (x, y, z) in tri.keys() else 'None' )\n",
    "        \n",
    "    print('\\n')\n",
    "    \n",
    "            "
   ]
  },
  {
   "cell_type": "code",
   "execution_count": 76,
   "id": "caroline-somalia",
   "metadata": {},
   "outputs": [
    {
     "name": "stdout",
     "output_type": "stream",
     "text": [
      "Prima lista inainte de incrementare [1, 2, 3, 4, 5]\n",
      "Prima lista [2, 2, 4, 4, 6]\n",
      "A doua lista [2, 2, 4, 4, 6]\n"
     ]
    }
   ],
   "source": [
    "l = [1,2,3,4,5]\n",
    "l_prim = l\n",
    "\n",
    "print(f'Prima lista inainte de incrementare {l}')\n",
    "\n",
    "for el in range(0, len(l), 2):\n",
    "    l[el] += 1\n",
    "    \n",
    "print(f'Prima lista {l}')\n",
    "print(f'A doua lista {l_prim}')"
   ]
  },
  {
   "cell_type": "code",
   "execution_count": 81,
   "id": "fundamental-reply",
   "metadata": {},
   "outputs": [
    {
     "name": "stdout",
     "output_type": "stream",
     "text": [
      "[1, 2, 3, 4, 5, 6]\n",
      "[1, 2, 'trei', 'patru', 5, 6]\n"
     ]
    }
   ],
   "source": [
    "l = [1,2,3,4,5,6]\n",
    "\n",
    "print(l)\n",
    "\n",
    "# Inlocuire\n",
    "l[2:4] = ['trei','patru']\n",
    "print(l)"
   ]
  },
  {
   "cell_type": "code",
   "execution_count": 88,
   "id": "choice-roots",
   "metadata": {},
   "outputs": [
    {
     "name": "stdout",
     "output_type": "stream",
     "text": [
      "['one', 'two', 'three']\n",
      "['one', 'three', 'two']\n",
      "['two', 'three', 'one']\n",
      "['two', 'three', 'one']\n"
     ]
    }
   ],
   "source": [
    "l = ['one', 'two', 'three']\n",
    "print(l)\n",
    "l.sort()\n",
    "print(l)\n",
    "l.sort(reverse=True)\n",
    "print(l)\n",
    "\n",
    "copie_l = l\n",
    "print(copie_l)"
   ]
  },
  {
   "cell_type": "markdown",
   "id": "supposed-miller",
   "metadata": {},
   "source": [
    "## Dictionare"
   ]
  },
  {
   "cell_type": "code",
   "execution_count": 61,
   "id": "finished-viewer",
   "metadata": {},
   "outputs": [],
   "source": [
    "import random\n",
    "import string\n",
    "\n",
    "def gen_date(dim):\n",
    "    dic = {}\n",
    "    for i in range(dim):\n",
    "        nume_1 = ''.join(random.choice(string.ascii_lowercase) for _ in range(5)).capitalize()\n",
    "        nume_2 = ''.join(random.choice(string.ascii_lowercase) for _ in range(5)).capitalize()\n",
    "        nr_tel = '07' + str(random.random())[2:10]\n",
    "        adr = ''.join(random.choice(string.ascii_uppercase) for _ in range(6)) + ', ' + str(random.random())[2:5]\n",
    "        dic[str(i)] = (nume_1, nume_2, nr_tel, adr)\n",
    "    return dic\n",
    "    "
   ]
  },
  {
   "cell_type": "markdown",
   "id": "reserved-formula",
   "metadata": {},
   "source": [
    "Realizați un dicționar care are ca și cheie un număr de\n",
    "identificare unic, și valoare o tuplă cu date personale –\n",
    "listați toate elementele\n"
   ]
  },
  {
   "cell_type": "code",
   "execution_count": 62,
   "id": "mental-timeline",
   "metadata": {},
   "outputs": [
    {
     "name": "stdout",
     "output_type": "stream",
     "text": [
      "Id (0) :\n",
      "\tNume: Lnmje\n",
      "\tPrenume: Fmqke\n",
      "\tAdresa: FBROOP, 370\n",
      "\tNr Tel: 0758338867\n",
      "Id (1) :\n",
      "\tNume: Wpuiu\n",
      "\tPrenume: Dxtex\n",
      "\tAdresa: VAJADK, 472\n",
      "\tNr Tel: 0782950690\n",
      "Id (2) :\n",
      "\tNume: Mulhu\n",
      "\tPrenume: Auepp\n",
      "\tAdresa: ZFPVEP, 997\n",
      "\tNr Tel: 0727281961\n",
      "Id (3) :\n",
      "\tNume: Liwqy\n",
      "\tPrenume: Fvbdg\n",
      "\tAdresa: HLORGS, 750\n",
      "\tNr Tel: 0794183102\n",
      "Id (4) :\n",
      "\tNume: Juxcc\n",
      "\tPrenume: Wtzid\n",
      "\tAdresa: SGGZZT, 016\n",
      "\tNr Tel: 0776694570\n"
     ]
    }
   ],
   "source": [
    "date = gen_date(5)\n",
    "\n",
    "for key, value in date.items():\n",
    "    print(f'Id ({key}) :\\n\\tNume: {value[0]}\\n\\tPrenume: {value[1]}\\n\\tAdresa: {value[3]}\\n\\tNr Tel: {value[2]}')"
   ]
  },
  {
   "cell_type": "markdown",
   "id": "elect-magnitude",
   "metadata": {},
   "source": [
    "Modificați dicționarul astfel încât cheia să fie șirul de\n",
    "caractere nume+prenume – listați "
   ]
  },
  {
   "cell_type": "code",
   "execution_count": null,
   "id": "lucky-column",
   "metadata": {},
   "outputs": [],
   "source": []
  },
  {
   "cell_type": "code",
   "execution_count": 45,
   "id": "spoken-coverage",
   "metadata": {},
   "outputs": [],
   "source": [
    "import timeit\n",
    "import numpy as np"
   ]
  },
  {
   "cell_type": "code",
   "execution_count": 47,
   "id": "funny-revision",
   "metadata": {},
   "outputs": [
    {
     "name": "stdout",
     "output_type": "stream",
     "text": [
      "1.3405944000005547\n",
      "0.008738700000321842\n"
     ]
    }
   ],
   "source": [
    "val = np.random.randint(1,100, size=100000)\n",
    "print(timeit.timeit(\"sum(val)\", globals=globals(), number=100))\n",
    "print(timeit.timeit(\"np.sum(val)\", globals=globals(), number=100))"
   ]
  },
  {
   "cell_type": "code",
   "execution_count": null,
   "id": "precious-booking",
   "metadata": {},
   "outputs": [],
   "source": []
  }
 ],
 "metadata": {
  "kernelspec": {
   "display_name": "Python 3",
   "language": "python",
   "name": "python3"
  },
  "language_info": {
   "codemirror_mode": {
    "name": "ipython",
    "version": 3
   },
   "file_extension": ".py",
   "mimetype": "text/x-python",
   "name": "python",
   "nbconvert_exporter": "python",
   "pygments_lexer": "ipython3",
   "version": "3.8.6"
  },
  "toc-autonumbering": false,
  "toc-showcode": false,
  "toc-showmarkdowntxt": true
 },
 "nbformat": 4,
 "nbformat_minor": 5
}
